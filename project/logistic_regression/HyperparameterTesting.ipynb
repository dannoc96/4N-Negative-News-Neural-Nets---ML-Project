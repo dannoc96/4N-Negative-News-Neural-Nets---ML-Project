{
 "cells": [
  {
   "cell_type": "markdown",
   "metadata": {},
   "source": [
    "# Logistic Regression Hyperparameter Testing"
   ]
  },
  {
   "cell_type": "markdown",
   "metadata": {},
   "source": [
    "## Imports"
   ]
  },
  {
   "cell_type": "code",
   "execution_count": 20,
   "metadata": {},
   "outputs": [
    {
     "name": "stderr",
     "output_type": "stream",
     "text": [
      "[nltk_data] Downloading package stopwords to\n",
      "[nltk_data]     C:\\Users\\Dan\\AppData\\Roaming\\nltk_data...\n",
      "[nltk_data]   Package stopwords is already up-to-date!\n"
     ]
    },
    {
     "data": {
      "text/plain": [
       "True"
      ]
     },
     "execution_count": 20,
     "metadata": {},
     "output_type": "execute_result"
    }
   ],
   "source": [
    "import pandas as pd\n",
    "import numpy as np\n",
    "import nltk.stem\n",
    "from sklearn.feature_extraction.text import CountVectorizer\n",
    "from sklearn.feature_extraction.text import TfidfVectorizer\n",
    "from sklearn.linear_model import LogisticRegression\n",
    "from sklearn.metrics import accuracy_score, precision_score, recall_score, f1_score, matthews_corrcoef\n",
    "from sklearn.model_selection import KFold\n",
    "from nltk.corpus import stopwords\n",
    "nltk.download('stopwords')"
   ]
  },
  {
   "cell_type": "markdown",
   "metadata": {},
   "source": [
    "## Load Data"
   ]
  },
  {
   "cell_type": "code",
   "execution_count": 2,
   "metadata": {},
   "outputs": [],
   "source": [
    "import os\n",
    "# Change directory to load preprocess script\n",
    "os.chdir(\"..\")"
   ]
  },
  {
   "cell_type": "code",
   "execution_count": 4,
   "metadata": {
    "scrolled": true
   },
   "outputs": [],
   "source": [
    "from data_preprocess import getTrainData\n",
    "train_data = getTrainData(include_random=True)"
   ]
  },
  {
   "cell_type": "markdown",
   "metadata": {},
   "source": [
    "## Test"
   ]
  },
  {
   "cell_type": "code",
   "execution_count": 5,
   "metadata": {},
   "outputs": [],
   "source": [
    "def cross_validation(word_vectorizer, model):\n",
    "    i = 0\n",
    "    n = 6\n",
    "    seed = 42\n",
    "    \n",
    "    accuracy = np.zeros(n)\n",
    "    precision = np.zeros(n)\n",
    "    recall = np.zeros(n)\n",
    "    f1 = np.zeros(n)\n",
    "    mcc = np.zeros(n)\n",
    "    \n",
    "    kf = KFold(n_splits=n, shuffle=True, random_state=seed)\n",
    "    \n",
    "    X = train_data['text'].array\n",
    "    y = train_data['label'].array\n",
    "\n",
    "    for train_index, test_index in kf.split(X):\n",
    "        X_train, X_val = X[train_index], X[test_index]\n",
    "        y_train, y_val = y[train_index], y[test_index]\n",
    "\n",
    "        X_train_cv = word_vectorizer.fit_transform(X_train)\n",
    "        X_val_cv = word_vectorizer.transform(X_val)\n",
    "        \n",
    "        model.fit(X_train_cv, y_train)\n",
    "        predictions = model.predict(X_val_cv)\n",
    "\n",
    "        accuracy[i] = accuracy_score(y_val, predictions)\n",
    "        precision[i] = precision_score(y_val, predictions)\n",
    "        recall[i] = recall_score(y_val, predictions)\n",
    "        f1[i] = f1_score(y_val, predictions)\n",
    "        mcc[i] = matthews_corrcoef(y_val, predictions)\n",
    "        \n",
    "        i += 1\n",
    "    return np.mean(accuracy), np.mean(precision), np.mean(recall), np.mean(f1), np.mean(mcc)"
   ]
  },
  {
   "cell_type": "code",
   "execution_count": 7,
   "metadata": {},
   "outputs": [],
   "source": [
    "def printResults(result_name, accuracy, precision, recall, f1, mcc):\n",
    "    print(result_name)\n",
    "    print('Accuracy score: ', accuracy)\n",
    "    print('Precision score: ', precision)\n",
    "    print('Recall score: ', recall)\n",
    "    print('F1 score: ', f1)\n",
    "    print('MCC score: ', mcc)"
   ]
  },
  {
   "cell_type": "markdown",
   "metadata": {},
   "source": [
    "### Word vectorizers"
   ]
  },
  {
   "cell_type": "markdown",
   "metadata": {},
   "source": [
    "#### CountVectorizer"
   ]
  },
  {
   "cell_type": "code",
   "execution_count": 29,
   "metadata": {},
   "outputs": [
    {
     "name": "stdout",
     "output_type": "stream",
     "text": [
      "LogisticRegression + CountVectorizer\n",
      "Accuracy score:  0.9190688986617487\n",
      "Precision score:  0.9146718423474244\n",
      "Recall score:  0.926079369818992\n",
      "F1 score:  0.9198532440009762\n",
      "MCC score:  0.8385098563883505\n"
     ]
    }
   ],
   "source": [
    "cv = CountVectorizer(strip_accents='ascii', lowercase=True, stop_words='english')\n",
    "logr = LogisticRegression(random_state=0, C=10, penalty='l2', max_iter=1000)\n",
    "\n",
    "accuracy, precision, recall, f1, mcc = cross_validation(cv, logr)\n",
    "\n",
    "printResults(\"LogisticRegression + CountVectorizer\", accuracy, precision, recall, f1, mcc)"
   ]
  },
  {
   "cell_type": "markdown",
   "metadata": {},
   "source": [
    "#### TfidfVectorizer"
   ]
  },
  {
   "cell_type": "code",
   "execution_count": 30,
   "metadata": {},
   "outputs": [
    {
     "name": "stdout",
     "output_type": "stream",
     "text": [
      "LogisticRegression + TfidfVectorizer\n",
      "Accuracy score:  0.9347472454721711\n",
      "Precision score:  0.9292959273188618\n",
      "Recall score:  0.9420055403013351\n",
      "F1 score:  0.9353809309578166\n",
      "MCC score:  0.8694109721122997\n"
     ]
    }
   ],
   "source": [
    "cv = TfidfVectorizer(strip_accents='ascii', lowercase=True, stop_words='english')\n",
    "logr = LogisticRegression(random_state=0, C=10, penalty='l2', max_iter=1000)\n",
    "\n",
    "accuracy, precision, recall, f1, mcc = cross_validation(cv, logr)\n",
    "\n",
    "printResults(\"LogisticRegression + TfidfVectorizer\", accuracy, precision, recall, f1, mcc)"
   ]
  },
  {
   "cell_type": "markdown",
   "metadata": {},
   "source": [
    "#### TfidfVectorizer - ngram_range=(1, 2)"
   ]
  },
  {
   "cell_type": "code",
   "execution_count": 19,
   "metadata": {},
   "outputs": [
    {
     "name": "stdout",
     "output_type": "stream",
     "text": [
      "LogisticRegression + TfidfVectorizer - ngram_range=(1, 2)\n",
      "Accuracy score:  0.9303565517567504\n",
      "Precision score:  0.9307241176262702\n",
      "Recall score:  0.9305920465706405\n",
      "F1 score:  0.9304381948793295\n",
      "MCC score:  0.8605531379382239\n"
     ]
    }
   ],
   "source": [
    "cv = TfidfVectorizer(strip_accents='ascii', lowercase=True, stop_words='english', ngram_range=(1, 2))\n",
    "logr = LogisticRegression(random_state=0, C=10, penalty='l2', max_iter=1000)\n",
    "\n",
    "accuracy, precision, recall, f1, mcc = cross_validation(cv, logr)\n",
    "\n",
    "printResults(\"LogisticRegression + TfidfVectorizer - ngram_range=(1, 2)\", accuracy, precision, recall, f1, mcc)"
   ]
  },
  {
   "cell_type": "markdown",
   "metadata": {},
   "source": [
    ">**Note:** Using ngrams higher than 1 alwas showed decrease in performance"
   ]
  },
  {
   "cell_type": "markdown",
   "metadata": {},
   "source": [
    "#### TfidfVectorizer - stemming words"
   ]
  },
  {
   "cell_type": "code",
   "execution_count": 21,
   "metadata": {},
   "outputs": [],
   "source": [
    "stemmer = nltk.stem.SnowballStemmer('english')\n",
    "class StemmedTfidfVectorizer(TfidfVectorizer):\n",
    "    def build_analyzer(self):\n",
    "        analyzer = super(StemmedTfidfVectorizer, self).build_analyzer()\n",
    "        return lambda doc: ([stemmer.stem(w) for w in analyzer(doc)])"
   ]
  },
  {
   "cell_type": "code",
   "execution_count": 27,
   "metadata": {},
   "outputs": [
    {
     "name": "stdout",
     "output_type": "stream",
     "text": [
      "LogisticRegression + TfidfVectorizer - stemming words\n",
      "Accuracy score:  0.9322362510048707\n",
      "Precision score:  0.9312328417706325\n",
      "Recall score:  0.9347597837346795\n",
      "F1 score:  0.9326467159130019\n",
      "MCC score:  0.8646352354991617\n"
     ]
    }
   ],
   "source": [
    "cv = StemmedTfidfVectorizer(strip_accents='ascii', lowercase=True, stop_words='english')\n",
    "logr = LogisticRegression(random_state=0, C=10, penalty='l2', max_iter=1000)\n",
    "\n",
    "accuracy, precision, recall, f1, mcc = cross_validation(cv, logr)\n",
    "\n",
    "printResults(\"LogisticRegression + TfidfVectorizer - stemming words\", accuracy, precision, recall, f1, mcc)"
   ]
  },
  {
   "cell_type": "markdown",
   "metadata": {},
   "source": [
    "Stemming words also proved to decrease performance and is really slow compared to plain `TfidfVectorizer`, we went with `TfidfVectorizer` ngram = 1"
   ]
  },
  {
   "cell_type": "markdown",
   "metadata": {},
   "source": [
    "### Hyperparameter testing"
   ]
  },
  {
   "cell_type": "code",
   "execution_count": 45,
   "metadata": {},
   "outputs": [],
   "source": [
    "C_range = np.arange(5, 22, 2)\n",
    "\n",
    "solvers = {}\n",
    "solvers['liblinear'] = {\n",
    "    'penalty': ['l1', 'l2'],\n",
    "    'intercept_scaling': np.arange(0.8, 1.3, 0.1)\n",
    "}\n",
    "\n",
    "solvers['lbfgs'] = {\n",
    "    'penalty': ['l2']\n",
    "}\n",
    "\n",
    "solvers['saga'] = {\n",
    "    'penalty': ['l1', 'l2']\n",
    "}\n",
    "\n",
    "solvers['saga_elastic'] = {\n",
    "    'l1_ratio' = np.arange(0, 0.2, 0.02)\n",
    "}"
   ]
  },
  {
   "cell_type": "code",
   "execution_count": 34,
   "metadata": {},
   "outputs": [],
   "source": [
    "cv = TfidfVectorizer(strip_accents='ascii', lowercase=True, stop_words='english')"
   ]
  },
  {
   "cell_type": "markdown",
   "metadata": {},
   "source": [
    " #### liblinear solver"
   ]
  },
  {
   "cell_type": "code",
   "execution_count": 35,
   "metadata": {},
   "outputs": [],
   "source": [
    "mg = np.array(np.meshgrid(solvers['liblinear']['penalty'], solvers['liblinear']['intercept_scaling'], C_range)).T.reshape(-1,3)\n",
    "\n",
    "results_arary = []\n",
    "for params in mg:\n",
    "    penalty=params[0]\n",
    "    intercept_scaling=float(params[1])\n",
    "    C=int(params[2])\n",
    "    logr = LogisticRegression(solver='liblinear', penalty=penalty, intercept_scaling=intercept_scaling, \n",
    "                            C=C, max_iter=1000, random_state=0)\n",
    "    \n",
    "    accuracy, precision, recall, f1, mcc = cross_validation(cv, logr)\n",
    "    \n",
    "    name = f'liblinear-{params[0]}-{params[1]}-{params[2]}'\n",
    "    results_arary.append([name , accuracy, precision, recall, f1, mcc])\n",
    "    \n",
    "results_liblinear = pd.DataFrame(results_arary, columns = ['model', 'accuracy', 'precision', 'recall', 'f1', 'mcc'])"
   ]
  },
  {
   "cell_type": "markdown",
   "metadata": {},
   "source": [
    " #### lbfgs solver"
   ]
  },
  {
   "cell_type": "code",
   "execution_count": 43,
   "metadata": {},
   "outputs": [],
   "source": [
    "results_arary = []\n",
    "for C in C_range:\n",
    "    logr = LogisticRegression(solver='lbfgs', penalty='l2', C=C, max_iter=1000, random_state=0)\n",
    "    \n",
    "    accuracy, precision, recall, f1, mcc = cross_validation(cv, logr)\n",
    "    \n",
    "    name = f'lbfgs-l2-{C}'\n",
    "    results_arary.append([name , accuracy, precision, recall, f1, mcc])\n",
    "    \n",
    "results_lbfgs_l2 = pd.DataFrame(results_arary, columns = ['model', 'accuracy', 'precision', 'recall', 'f1', 'mcc'])"
   ]
  },
  {
   "cell_type": "code",
   "execution_count": 48,
   "metadata": {},
   "outputs": [],
   "source": [
    "results_arary = []\n",
    "logr = LogisticRegression(solver='lbfgs', penalty='none', max_iter=1000, random_state=0)\n",
    "    \n",
    "accuracy, precision, recall, f1, mcc = cross_validation(cv, logr)\n",
    "name = f'lbfgs-none'\n",
    "results_arary.append([name , accuracy, precision, recall, f1, mcc])\n",
    "results_lbfgs_none = pd.DataFrame(results_arary, columns = ['model', 'accuracy', 'precision', 'recall', 'f1', 'mcc'])"
   ]
  },
  {
   "cell_type": "markdown",
   "metadata": {},
   "source": [
    " #### saga solver"
   ]
  },
  {
   "cell_type": "markdown",
   "metadata": {},
   "source": [
    "##### l1/l2 penalty"
   ]
  },
  {
   "cell_type": "code",
   "execution_count": 51,
   "metadata": {},
   "outputs": [
    {
     "name": "stderr",
     "output_type": "stream",
     "text": [
      "c:\\users\\dan\\appdata\\local\\programs\\python\\python37\\lib\\site-packages\\sklearn\\linear_model\\_sag.py:330: ConvergenceWarning: The max_iter was reached which means the coef_ did not converge\n",
      "  \"the coef_ did not converge\", ConvergenceWarning)\n",
      "c:\\users\\dan\\appdata\\local\\programs\\python\\python37\\lib\\site-packages\\sklearn\\linear_model\\_sag.py:330: ConvergenceWarning: The max_iter was reached which means the coef_ did not converge\n",
      "  \"the coef_ did not converge\", ConvergenceWarning)\n",
      "c:\\users\\dan\\appdata\\local\\programs\\python\\python37\\lib\\site-packages\\sklearn\\linear_model\\_sag.py:330: ConvergenceWarning: The max_iter was reached which means the coef_ did not converge\n",
      "  \"the coef_ did not converge\", ConvergenceWarning)\n",
      "c:\\users\\dan\\appdata\\local\\programs\\python\\python37\\lib\\site-packages\\sklearn\\linear_model\\_sag.py:330: ConvergenceWarning: The max_iter was reached which means the coef_ did not converge\n",
      "  \"the coef_ did not converge\", ConvergenceWarning)\n",
      "c:\\users\\dan\\appdata\\local\\programs\\python\\python37\\lib\\site-packages\\sklearn\\linear_model\\_sag.py:330: ConvergenceWarning: The max_iter was reached which means the coef_ did not converge\n",
      "  \"the coef_ did not converge\", ConvergenceWarning)\n",
      "c:\\users\\dan\\appdata\\local\\programs\\python\\python37\\lib\\site-packages\\sklearn\\linear_model\\_sag.py:330: ConvergenceWarning: The max_iter was reached which means the coef_ did not converge\n",
      "  \"the coef_ did not converge\", ConvergenceWarning)\n",
      "c:\\users\\dan\\appdata\\local\\programs\\python\\python37\\lib\\site-packages\\sklearn\\linear_model\\_sag.py:330: ConvergenceWarning: The max_iter was reached which means the coef_ did not converge\n",
      "  \"the coef_ did not converge\", ConvergenceWarning)\n",
      "c:\\users\\dan\\appdata\\local\\programs\\python\\python37\\lib\\site-packages\\sklearn\\linear_model\\_sag.py:330: ConvergenceWarning: The max_iter was reached which means the coef_ did not converge\n",
      "  \"the coef_ did not converge\", ConvergenceWarning)\n",
      "c:\\users\\dan\\appdata\\local\\programs\\python\\python37\\lib\\site-packages\\sklearn\\linear_model\\_sag.py:330: ConvergenceWarning: The max_iter was reached which means the coef_ did not converge\n",
      "  \"the coef_ did not converge\", ConvergenceWarning)\n",
      "c:\\users\\dan\\appdata\\local\\programs\\python\\python37\\lib\\site-packages\\sklearn\\linear_model\\_sag.py:330: ConvergenceWarning: The max_iter was reached which means the coef_ did not converge\n",
      "  \"the coef_ did not converge\", ConvergenceWarning)\n",
      "c:\\users\\dan\\appdata\\local\\programs\\python\\python37\\lib\\site-packages\\sklearn\\linear_model\\_sag.py:330: ConvergenceWarning: The max_iter was reached which means the coef_ did not converge\n",
      "  \"the coef_ did not converge\", ConvergenceWarning)\n",
      "c:\\users\\dan\\appdata\\local\\programs\\python\\python37\\lib\\site-packages\\sklearn\\linear_model\\_sag.py:330: ConvergenceWarning: The max_iter was reached which means the coef_ did not converge\n",
      "  \"the coef_ did not converge\", ConvergenceWarning)\n",
      "c:\\users\\dan\\appdata\\local\\programs\\python\\python37\\lib\\site-packages\\sklearn\\linear_model\\_sag.py:330: ConvergenceWarning: The max_iter was reached which means the coef_ did not converge\n",
      "  \"the coef_ did not converge\", ConvergenceWarning)\n",
      "c:\\users\\dan\\appdata\\local\\programs\\python\\python37\\lib\\site-packages\\sklearn\\linear_model\\_sag.py:330: ConvergenceWarning: The max_iter was reached which means the coef_ did not converge\n",
      "  \"the coef_ did not converge\", ConvergenceWarning)\n",
      "c:\\users\\dan\\appdata\\local\\programs\\python\\python37\\lib\\site-packages\\sklearn\\linear_model\\_sag.py:330: ConvergenceWarning: The max_iter was reached which means the coef_ did not converge\n",
      "  \"the coef_ did not converge\", ConvergenceWarning)\n",
      "c:\\users\\dan\\appdata\\local\\programs\\python\\python37\\lib\\site-packages\\sklearn\\linear_model\\_sag.py:330: ConvergenceWarning: The max_iter was reached which means the coef_ did not converge\n",
      "  \"the coef_ did not converge\", ConvergenceWarning)\n",
      "c:\\users\\dan\\appdata\\local\\programs\\python\\python37\\lib\\site-packages\\sklearn\\linear_model\\_sag.py:330: ConvergenceWarning: The max_iter was reached which means the coef_ did not converge\n",
      "  \"the coef_ did not converge\", ConvergenceWarning)\n",
      "c:\\users\\dan\\appdata\\local\\programs\\python\\python37\\lib\\site-packages\\sklearn\\linear_model\\_sag.py:330: ConvergenceWarning: The max_iter was reached which means the coef_ did not converge\n",
      "  \"the coef_ did not converge\", ConvergenceWarning)\n",
      "c:\\users\\dan\\appdata\\local\\programs\\python\\python37\\lib\\site-packages\\sklearn\\linear_model\\_sag.py:330: ConvergenceWarning: The max_iter was reached which means the coef_ did not converge\n",
      "  \"the coef_ did not converge\", ConvergenceWarning)\n",
      "c:\\users\\dan\\appdata\\local\\programs\\python\\python37\\lib\\site-packages\\sklearn\\linear_model\\_sag.py:330: ConvergenceWarning: The max_iter was reached which means the coef_ did not converge\n",
      "  \"the coef_ did not converge\", ConvergenceWarning)\n",
      "c:\\users\\dan\\appdata\\local\\programs\\python\\python37\\lib\\site-packages\\sklearn\\linear_model\\_sag.py:330: ConvergenceWarning: The max_iter was reached which means the coef_ did not converge\n",
      "  \"the coef_ did not converge\", ConvergenceWarning)\n",
      "c:\\users\\dan\\appdata\\local\\programs\\python\\python37\\lib\\site-packages\\sklearn\\linear_model\\_sag.py:330: ConvergenceWarning: The max_iter was reached which means the coef_ did not converge\n",
      "  \"the coef_ did not converge\", ConvergenceWarning)\n",
      "c:\\users\\dan\\appdata\\local\\programs\\python\\python37\\lib\\site-packages\\sklearn\\linear_model\\_sag.py:330: ConvergenceWarning: The max_iter was reached which means the coef_ did not converge\n",
      "  \"the coef_ did not converge\", ConvergenceWarning)\n",
      "c:\\users\\dan\\appdata\\local\\programs\\python\\python37\\lib\\site-packages\\sklearn\\linear_model\\_sag.py:330: ConvergenceWarning: The max_iter was reached which means the coef_ did not converge\n",
      "  \"the coef_ did not converge\", ConvergenceWarning)\n",
      "c:\\users\\dan\\appdata\\local\\programs\\python\\python37\\lib\\site-packages\\sklearn\\linear_model\\_sag.py:330: ConvergenceWarning: The max_iter was reached which means the coef_ did not converge\n",
      "  \"the coef_ did not converge\", ConvergenceWarning)\n",
      "c:\\users\\dan\\appdata\\local\\programs\\python\\python37\\lib\\site-packages\\sklearn\\linear_model\\_sag.py:330: ConvergenceWarning: The max_iter was reached which means the coef_ did not converge\n",
      "  \"the coef_ did not converge\", ConvergenceWarning)\n",
      "c:\\users\\dan\\appdata\\local\\programs\\python\\python37\\lib\\site-packages\\sklearn\\linear_model\\_sag.py:330: ConvergenceWarning: The max_iter was reached which means the coef_ did not converge\n",
      "  \"the coef_ did not converge\", ConvergenceWarning)\n",
      "c:\\users\\dan\\appdata\\local\\programs\\python\\python37\\lib\\site-packages\\sklearn\\linear_model\\_sag.py:330: ConvergenceWarning: The max_iter was reached which means the coef_ did not converge\n",
      "  \"the coef_ did not converge\", ConvergenceWarning)\n",
      "c:\\users\\dan\\appdata\\local\\programs\\python\\python37\\lib\\site-packages\\sklearn\\linear_model\\_sag.py:330: ConvergenceWarning: The max_iter was reached which means the coef_ did not converge\n",
      "  \"the coef_ did not converge\", ConvergenceWarning)\n",
      "c:\\users\\dan\\appdata\\local\\programs\\python\\python37\\lib\\site-packages\\sklearn\\linear_model\\_sag.py:330: ConvergenceWarning: The max_iter was reached which means the coef_ did not converge\n",
      "  \"the coef_ did not converge\", ConvergenceWarning)\n",
      "c:\\users\\dan\\appdata\\local\\programs\\python\\python37\\lib\\site-packages\\sklearn\\linear_model\\_sag.py:330: ConvergenceWarning: The max_iter was reached which means the coef_ did not converge\n",
      "  \"the coef_ did not converge\", ConvergenceWarning)\n",
      "c:\\users\\dan\\appdata\\local\\programs\\python\\python37\\lib\\site-packages\\sklearn\\linear_model\\_sag.py:330: ConvergenceWarning: The max_iter was reached which means the coef_ did not converge\n",
      "  \"the coef_ did not converge\", ConvergenceWarning)\n",
      "c:\\users\\dan\\appdata\\local\\programs\\python\\python37\\lib\\site-packages\\sklearn\\linear_model\\_sag.py:330: ConvergenceWarning: The max_iter was reached which means the coef_ did not converge\n",
      "  \"the coef_ did not converge\", ConvergenceWarning)\n",
      "c:\\users\\dan\\appdata\\local\\programs\\python\\python37\\lib\\site-packages\\sklearn\\linear_model\\_sag.py:330: ConvergenceWarning: The max_iter was reached which means the coef_ did not converge\n",
      "  \"the coef_ did not converge\", ConvergenceWarning)\n",
      "c:\\users\\dan\\appdata\\local\\programs\\python\\python37\\lib\\site-packages\\sklearn\\linear_model\\_sag.py:330: ConvergenceWarning: The max_iter was reached which means the coef_ did not converge\n",
      "  \"the coef_ did not converge\", ConvergenceWarning)\n"
     ]
    },
    {
     "name": "stderr",
     "output_type": "stream",
     "text": [
      "c:\\users\\dan\\appdata\\local\\programs\\python\\python37\\lib\\site-packages\\sklearn\\linear_model\\_sag.py:330: ConvergenceWarning: The max_iter was reached which means the coef_ did not converge\n",
      "  \"the coef_ did not converge\", ConvergenceWarning)\n",
      "c:\\users\\dan\\appdata\\local\\programs\\python\\python37\\lib\\site-packages\\sklearn\\linear_model\\_sag.py:330: ConvergenceWarning: The max_iter was reached which means the coef_ did not converge\n",
      "  \"the coef_ did not converge\", ConvergenceWarning)\n"
     ]
    }
   ],
   "source": [
    "mg = np.array(np.meshgrid(solvers['saga']['penalty'], C_range)).T.reshape(-1,2)\n",
    "\n",
    "results_arary = []\n",
    "for params in mg:\n",
    "    penalty=params[0]\n",
    "    C=int(params[1])\n",
    "    logr = LogisticRegression(solver='saga', penalty=penalty, C=C, max_iter=1000, random_state=0)\n",
    "    \n",
    "    accuracy, precision, recall, f1, mcc = cross_validation(cv, logr)\n",
    "    \n",
    "    name = f'saga-{params[0]}-{params[1]}'\n",
    "    results_arary.append([name , accuracy, precision, recall, f1, mcc])\n",
    "    \n",
    "results_saga = pd.DataFrame(results_arary, columns = ['model', 'accuracy', 'precision', 'recall', 'f1', 'mcc'])"
   ]
  },
  {
   "cell_type": "markdown",
   "metadata": {},
   "source": [
    "##### elastic net penalty"
   ]
  },
  {
   "cell_type": "code",
   "execution_count": 59,
   "metadata": {},
   "outputs": [],
   "source": [
    "l1_ratio = np.arange(0, 0.2, 0.02)\n",
    "mg = np.array(np.meshgrid(solvers['saga_elastic']['l1_ratio'], C_range)).T.reshape(-1,2)\n",
    "\n",
    "results_arary = []\n",
    "for params in mg:\n",
    "    l1_ratio=float(params[0])\n",
    "    C=int(params[1])\n",
    "    logr = LogisticRegression(solver='saga', penalty='elasticnet', C=C, l1_ratio=l1_ratio, max_iter=1000, random_state=0)\n",
    "    \n",
    "    accuracy, precision, recall, f1, mcc = cross_validation(cv, logr)\n",
    "    \n",
    "    name = f'saga-elasticnet-{params[0]}-{params[1]}'\n",
    "    results_arary.append([name , accuracy, precision, recall, f1, mcc])\n",
    "    \n",
    "results_saga_elasticnet = pd.DataFrame(results_arary, columns = ['model', 'accuracy', 'precision', 'recall', 'f1', 'mcc'])"
   ]
  },
  {
   "cell_type": "markdown",
   "metadata": {},
   "source": [
    "#### Results"
   ]
  },
  {
   "cell_type": "code",
   "execution_count": 60,
   "metadata": {},
   "outputs": [
    {
     "data": {
      "text/html": [
       "<div>\n",
       "<style scoped>\n",
       "    .dataframe tbody tr th:only-of-type {\n",
       "        vertical-align: middle;\n",
       "    }\n",
       "\n",
       "    .dataframe tbody tr th {\n",
       "        vertical-align: top;\n",
       "    }\n",
       "\n",
       "    .dataframe thead th {\n",
       "        text-align: right;\n",
       "    }\n",
       "</style>\n",
       "<table border=\"1\" class=\"dataframe\">\n",
       "  <thead>\n",
       "    <tr style=\"text-align: right;\">\n",
       "      <th></th>\n",
       "      <th>model</th>\n",
       "      <th>accuracy</th>\n",
       "      <th>precision</th>\n",
       "      <th>recall</th>\n",
       "      <th>f1</th>\n",
       "      <th>mcc</th>\n",
       "    </tr>\n",
       "  </thead>\n",
       "  <tbody>\n",
       "    <tr>\n",
       "      <th>65</th>\n",
       "      <td>liblinear-l2-0.8-17</td>\n",
       "      <td>0.935998</td>\n",
       "      <td>0.930730</td>\n",
       "      <td>0.943350</td>\n",
       "      <td>0.936779</td>\n",
       "      <td>0.871859</td>\n",
       "    </tr>\n",
       "    <tr>\n",
       "      <th>66</th>\n",
       "      <td>liblinear-l2-0.9-17</td>\n",
       "      <td>0.935998</td>\n",
       "      <td>0.930730</td>\n",
       "      <td>0.943350</td>\n",
       "      <td>0.936779</td>\n",
       "      <td>0.871859</td>\n",
       "    </tr>\n",
       "    <tr>\n",
       "      <th>67</th>\n",
       "      <td>liblinear-l2-1.0-17</td>\n",
       "      <td>0.935998</td>\n",
       "      <td>0.930730</td>\n",
       "      <td>0.943350</td>\n",
       "      <td>0.936779</td>\n",
       "      <td>0.871859</td>\n",
       "    </tr>\n",
       "    <tr>\n",
       "      <th>68</th>\n",
       "      <td>liblinear-l2-1.1-17</td>\n",
       "      <td>0.935998</td>\n",
       "      <td>0.930730</td>\n",
       "      <td>0.943350</td>\n",
       "      <td>0.936779</td>\n",
       "      <td>0.871859</td>\n",
       "    </tr>\n",
       "    <tr>\n",
       "      <th>69</th>\n",
       "      <td>liblinear-l2-1.2-17</td>\n",
       "      <td>0.935998</td>\n",
       "      <td>0.930730</td>\n",
       "      <td>0.943350</td>\n",
       "      <td>0.936779</td>\n",
       "      <td>0.871859</td>\n",
       "    </tr>\n",
       "    <tr>\n",
       "      <th>96</th>\n",
       "      <td>lbfgs-l2-17</td>\n",
       "      <td>0.935998</td>\n",
       "      <td>0.930730</td>\n",
       "      <td>0.943350</td>\n",
       "      <td>0.936779</td>\n",
       "      <td>0.871859</td>\n",
       "    </tr>\n",
       "    <tr>\n",
       "      <th>85</th>\n",
       "      <td>liblinear-l2-0.8-21</td>\n",
       "      <td>0.935998</td>\n",
       "      <td>0.931851</td>\n",
       "      <td>0.942106</td>\n",
       "      <td>0.936743</td>\n",
       "      <td>0.871810</td>\n",
       "    </tr>\n",
       "    <tr>\n",
       "      <th>86</th>\n",
       "      <td>liblinear-l2-0.9-21</td>\n",
       "      <td>0.935998</td>\n",
       "      <td>0.931851</td>\n",
       "      <td>0.942106</td>\n",
       "      <td>0.936743</td>\n",
       "      <td>0.871810</td>\n",
       "    </tr>\n",
       "    <tr>\n",
       "      <th>87</th>\n",
       "      <td>liblinear-l2-1.0-21</td>\n",
       "      <td>0.935998</td>\n",
       "      <td>0.931851</td>\n",
       "      <td>0.942106</td>\n",
       "      <td>0.936743</td>\n",
       "      <td>0.871810</td>\n",
       "    </tr>\n",
       "    <tr>\n",
       "      <th>88</th>\n",
       "      <td>liblinear-l2-1.1-21</td>\n",
       "      <td>0.935998</td>\n",
       "      <td>0.931851</td>\n",
       "      <td>0.942106</td>\n",
       "      <td>0.936743</td>\n",
       "      <td>0.871810</td>\n",
       "    </tr>\n",
       "    <tr>\n",
       "      <th>89</th>\n",
       "      <td>liblinear-l2-1.2-21</td>\n",
       "      <td>0.935998</td>\n",
       "      <td>0.931851</td>\n",
       "      <td>0.942106</td>\n",
       "      <td>0.936743</td>\n",
       "      <td>0.871810</td>\n",
       "    </tr>\n",
       "    <tr>\n",
       "      <th>98</th>\n",
       "      <td>lbfgs-l2-21</td>\n",
       "      <td>0.935998</td>\n",
       "      <td>0.931851</td>\n",
       "      <td>0.942106</td>\n",
       "      <td>0.936743</td>\n",
       "      <td>0.871810</td>\n",
       "    </tr>\n",
       "    <tr>\n",
       "      <th>75</th>\n",
       "      <td>liblinear-l2-0.8-19</td>\n",
       "      <td>0.935371</td>\n",
       "      <td>0.930672</td>\n",
       "      <td>0.942106</td>\n",
       "      <td>0.936117</td>\n",
       "      <td>0.870627</td>\n",
       "    </tr>\n",
       "    <tr>\n",
       "      <th>76</th>\n",
       "      <td>liblinear-l2-0.9-19</td>\n",
       "      <td>0.935371</td>\n",
       "      <td>0.930672</td>\n",
       "      <td>0.942106</td>\n",
       "      <td>0.936117</td>\n",
       "      <td>0.870627</td>\n",
       "    </tr>\n",
       "    <tr>\n",
       "      <th>77</th>\n",
       "      <td>liblinear-l2-1.0-19</td>\n",
       "      <td>0.935371</td>\n",
       "      <td>0.930672</td>\n",
       "      <td>0.942106</td>\n",
       "      <td>0.936117</td>\n",
       "      <td>0.870627</td>\n",
       "    </tr>\n",
       "  </tbody>\n",
       "</table>\n",
       "</div>"
      ],
      "text/plain": [
       "                  model  accuracy  precision    recall        f1       mcc\n",
       "65  liblinear-l2-0.8-17  0.935998   0.930730  0.943350  0.936779  0.871859\n",
       "66  liblinear-l2-0.9-17  0.935998   0.930730  0.943350  0.936779  0.871859\n",
       "67  liblinear-l2-1.0-17  0.935998   0.930730  0.943350  0.936779  0.871859\n",
       "68  liblinear-l2-1.1-17  0.935998   0.930730  0.943350  0.936779  0.871859\n",
       "69  liblinear-l2-1.2-17  0.935998   0.930730  0.943350  0.936779  0.871859\n",
       "96          lbfgs-l2-17  0.935998   0.930730  0.943350  0.936779  0.871859\n",
       "85  liblinear-l2-0.8-21  0.935998   0.931851  0.942106  0.936743  0.871810\n",
       "86  liblinear-l2-0.9-21  0.935998   0.931851  0.942106  0.936743  0.871810\n",
       "87  liblinear-l2-1.0-21  0.935998   0.931851  0.942106  0.936743  0.871810\n",
       "88  liblinear-l2-1.1-21  0.935998   0.931851  0.942106  0.936743  0.871810\n",
       "89  liblinear-l2-1.2-21  0.935998   0.931851  0.942106  0.936743  0.871810\n",
       "98          lbfgs-l2-21  0.935998   0.931851  0.942106  0.936743  0.871810\n",
       "75  liblinear-l2-0.8-19  0.935371   0.930672  0.942106  0.936117  0.870627\n",
       "76  liblinear-l2-0.9-19  0.935371   0.930672  0.942106  0.936117  0.870627\n",
       "77  liblinear-l2-1.0-19  0.935371   0.930672  0.942106  0.936117  0.870627"
      ]
     },
     "execution_count": 60,
     "metadata": {},
     "output_type": "execute_result"
    }
   ],
   "source": [
    "results = pd.concat([results_liblinear, results_lbfgs_l2, results_lbfgs_none, results_saga, results_saga_elasticnet], ignore_index=True)\n",
    "\n",
    "results = results.sort_values(by=['f1', 'mcc'], ascending=False)\n",
    "\n",
    "results.head(15)"
   ]
  },
  {
   "cell_type": "markdown",
   "metadata": {},
   "source": [
    "##### Try parameters `C=16` and `C=18` for `lbfgs`"
   ]
  },
  {
   "cell_type": "code",
   "execution_count": 63,
   "metadata": {},
   "outputs": [
    {
     "data": {
      "text/plain": [
       "(0.9353714474866411,\n",
       " 0.9306110133467745,\n",
       " 0.9420055403013351,\n",
       " 0.9360738964027515,\n",
       " 0.8705455628422282)"
      ]
     },
     "execution_count": 63,
     "metadata": {},
     "output_type": "execute_result"
    }
   ],
   "source": [
    "logr = LogisticRegression(solver='lbfgs', penalty='l2', C=16, max_iter=1000, random_state=0)\n",
    "    \n",
    "cross_validation(cv, logr)"
   ]
  },
  {
   "cell_type": "code",
   "execution_count": 64,
   "metadata": {},
   "outputs": [
    {
     "data": {
      "text/plain": [
       "(0.9359980139026812,\n",
       " 0.9307302739311515,\n",
       " 0.9433496263228404,\n",
       " 0.9367793418189124,\n",
       " 0.8718586154325507)"
      ]
     },
     "execution_count": 64,
     "metadata": {},
     "output_type": "execute_result"
    }
   ],
   "source": [
    "logr = LogisticRegression(solver='lbfgs', penalty='l2', C=18, max_iter=1000, random_state=0)\n",
    "    \n",
    "cross_validation(cv, logr)"
   ]
  },
  {
   "cell_type": "markdown",
   "metadata": {},
   "source": [
    "None of the previously untested `C=16` and `C=18` are better than `C=17`"
   ]
  },
  {
   "cell_type": "markdown",
   "metadata": {},
   "source": [
    "## Conclusion"
   ]
  },
  {
   "cell_type": "markdown",
   "metadata": {},
   "source": [
    "* **Word vectorizer:** Best results were obtained by `TfidfVectorizer`.\n",
    "\n",
    "* **Model:** The best result was produced by solver `lbfgs` and `liblinear` with parameter `C=17` and `penalty='l2'`. We will use `lbfgs` for our models."
   ]
  }
 ],
 "metadata": {
  "kernelspec": {
   "display_name": "Python 3",
   "language": "python",
   "name": "python3"
  },
  "language_info": {
   "codemirror_mode": {
    "name": "ipython",
    "version": 3
   },
   "file_extension": ".py",
   "mimetype": "text/x-python",
   "name": "python",
   "nbconvert_exporter": "python",
   "pygments_lexer": "ipython3",
   "version": "3.7.2"
  }
 },
 "nbformat": 4,
 "nbformat_minor": 4
}
