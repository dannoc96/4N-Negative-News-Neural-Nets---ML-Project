{
 "cells": [
  {
   "cell_type": "markdown",
   "metadata": {},
   "source": [
    "# Logistic Regression Results"
   ]
  },
  {
   "cell_type": "markdown",
   "metadata": {},
   "source": [
    "## Imports"
   ]
  },
  {
   "cell_type": "code",
   "execution_count": 1,
   "metadata": {},
   "outputs": [],
   "source": [
    "import pandas as pd\n",
    "import numpy as np\n",
    "from sklearn.feature_extraction.text import CountVectorizer\n",
    "from sklearn.feature_extraction.text import TfidfVectorizer\n",
    "from sklearn.linear_model import LogisticRegression\n",
    "from sklearn.metrics import accuracy_score, precision_score, recall_score, f1_score, matthews_corrcoef\n",
    "from sklearn.model_selection import KFold"
   ]
  },
  {
   "cell_type": "markdown",
   "metadata": {},
   "source": [
    "## Load Data"
   ]
  },
  {
   "cell_type": "code",
   "execution_count": 2,
   "metadata": {},
   "outputs": [],
   "source": [
    "import os\n",
    "# Change directory to load preprocess script\n",
    "os.chdir(\"..\")"
   ]
  },
  {
   "cell_type": "code",
   "execution_count": 8,
   "metadata": {},
   "outputs": [],
   "source": [
    "from data_preprocess import getTrainData\n",
    "train_data_all = getTrainData(include_random=True) # article title + body\n",
    "train_data_title = getTrainData(include_random=True, n_sentences=0) # article title\n",
    "train_data_body = getTrainData(include_random=True, no_title=True) # article body\n",
    "train_data_titleplus = getTrainData(include_random=True, n_sentences=1) # article title + 1st sentence"
   ]
  },
  {
   "cell_type": "markdown",
   "metadata": {},
   "source": [
    "## Test"
   ]
  },
  {
   "cell_type": "code",
   "execution_count": 9,
   "metadata": {},
   "outputs": [],
   "source": [
    "def cross_validation(word_vectorizer, model, train_data):\n",
    "    i = 0\n",
    "    n = 6\n",
    "    seed = 42\n",
    "    \n",
    "    accuracy = np.zeros(n)\n",
    "    precision = np.zeros(n)\n",
    "    recall = np.zeros(n)\n",
    "    f1 = np.zeros(n)\n",
    "    mcc = np.zeros(n)\n",
    "    \n",
    "    kf = KFold(n_splits=n, shuffle=True, random_state=seed)\n",
    "    \n",
    "    X = train_data['text'].array\n",
    "    y = train_data['label'].array\n",
    "\n",
    "    for train_index, test_index in kf.split(X):\n",
    "        X_train, X_val = X[train_index], X[test_index]\n",
    "        y_train, y_val = y[train_index], y[test_index]\n",
    "\n",
    "        X_train_cv = word_vectorizer.fit_transform(X_train)\n",
    "        X_val_cv = word_vectorizer.transform(X_val)\n",
    "        \n",
    "        model.fit(X_train_cv, y_train)\n",
    "        predictions = model.predict(X_val_cv)\n",
    "\n",
    "        accuracy[i] = accuracy_score(y_val, predictions)\n",
    "        precision[i] = precision_score(y_val, predictions)\n",
    "        recall[i] = recall_score(y_val, predictions)\n",
    "        f1[i] = f1_score(y_val, predictions)\n",
    "        mcc[i] = matthews_corrcoef(y_val, predictions)\n",
    "        \n",
    "        i += 1\n",
    "    return np.mean(accuracy), np.mean(precision), np.mean(recall), np.mean(f1), np.mean(mcc)"
   ]
  },
  {
   "cell_type": "code",
   "execution_count": 15,
   "metadata": {},
   "outputs": [],
   "source": [
    "def printResults(result_name, results):\n",
    "    print(result_name)\n",
    "    print('Accuracy score: ', results[0])\n",
    "    print('Precision score: ', results[1])\n",
    "    print('Recall score: ', results[2])\n",
    "    print('F1 score: ', results[3])\n",
    "    print('MCC score: ', results[4])"
   ]
  },
  {
   "cell_type": "markdown",
   "metadata": {},
   "source": [
    "### All - title + body"
   ]
  },
  {
   "cell_type": "code",
   "execution_count": 51,
   "metadata": {},
   "outputs": [],
   "source": [
    "cv = TfidfVectorizer(strip_accents='ascii', lowercase=True, stop_words='english')\n",
    "logr = LogisticRegression(random_state=0, C=17, penalty='l2', max_iter=1000)\n",
    "\n",
    "results_all = cross_validation(cv, logr, train_data_all)"
   ]
  },
  {
   "cell_type": "markdown",
   "metadata": {},
   "source": [
    "### Title"
   ]
  },
  {
   "cell_type": "code",
   "execution_count": 44,
   "metadata": {},
   "outputs": [],
   "source": [
    "cv = TfidfVectorizer(strip_accents='ascii', lowercase=True, stop_words='english')\n",
    "logr = LogisticRegression(random_state=0, C=17, penalty='l2', max_iter=1000)\n",
    "\n",
    "results_title = cross_validation(cv, logr, train_data_title)"
   ]
  },
  {
   "cell_type": "markdown",
   "metadata": {},
   "source": [
    "### Body"
   ]
  },
  {
   "cell_type": "code",
   "execution_count": 45,
   "metadata": {},
   "outputs": [],
   "source": [
    "cv = TfidfVectorizer(strip_accents='ascii', lowercase=True, stop_words='english')\n",
    "logr = LogisticRegression(random_state=0, C=17, penalty='l2', max_iter=1000)\n",
    "\n",
    "results_body = cross_validation(cv, logr, train_data_body)"
   ]
  },
  {
   "cell_type": "markdown",
   "metadata": {},
   "source": [
    "### Titleplus - title + 1st sentence"
   ]
  },
  {
   "cell_type": "code",
   "execution_count": 46,
   "metadata": {},
   "outputs": [],
   "source": [
    "cv = TfidfVectorizer(strip_accents='ascii', lowercase=True, stop_words='english')\n",
    "logr = LogisticRegression(random_state=0, C=17, penalty='l2', max_iter=1000)\n",
    "\n",
    "results_titleplus = cross_validation(cv, logr, train_data_titleplus)"
   ]
  },
  {
   "cell_type": "markdown",
   "metadata": {},
   "source": [
    "### Result"
   ]
  },
  {
   "cell_type": "code",
   "execution_count": 47,
   "metadata": {},
   "outputs": [
    {
     "data": {
      "text/html": [
       "<div>\n",
       "<style scoped>\n",
       "    .dataframe tbody tr th:only-of-type {\n",
       "        vertical-align: middle;\n",
       "    }\n",
       "\n",
       "    .dataframe tbody tr th {\n",
       "        vertical-align: top;\n",
       "    }\n",
       "\n",
       "    .dataframe thead th {\n",
       "        text-align: right;\n",
       "    }\n",
       "</style>\n",
       "<table border=\"1\" class=\"dataframe\">\n",
       "  <thead>\n",
       "    <tr style=\"text-align: right;\">\n",
       "      <th></th>\n",
       "      <th>models</th>\n",
       "      <th>accuracy</th>\n",
       "      <th>precision</th>\n",
       "      <th>recall</th>\n",
       "      <th>f1</th>\n",
       "      <th>mcc</th>\n",
       "    </tr>\n",
       "  </thead>\n",
       "  <tbody>\n",
       "    <tr>\n",
       "      <th>2</th>\n",
       "      <td>results_body</td>\n",
       "      <td>0.937258</td>\n",
       "      <td>0.931932</td>\n",
       "      <td>0.944421</td>\n",
       "      <td>0.937907</td>\n",
       "      <td>0.874391</td>\n",
       "    </tr>\n",
       "    <tr>\n",
       "      <th>0</th>\n",
       "      <td>results_all</td>\n",
       "      <td>0.935998</td>\n",
       "      <td>0.930730</td>\n",
       "      <td>0.943350</td>\n",
       "      <td>0.936779</td>\n",
       "      <td>0.871859</td>\n",
       "    </tr>\n",
       "    <tr>\n",
       "      <th>3</th>\n",
       "      <td>results_titleplus</td>\n",
       "      <td>0.885795</td>\n",
       "      <td>0.898660</td>\n",
       "      <td>0.871399</td>\n",
       "      <td>0.884333</td>\n",
       "      <td>0.772303</td>\n",
       "    </tr>\n",
       "    <tr>\n",
       "      <th>1</th>\n",
       "      <td>results_title</td>\n",
       "      <td>0.853797</td>\n",
       "      <td>0.867991</td>\n",
       "      <td>0.839682</td>\n",
       "      <td>0.852568</td>\n",
       "      <td>0.709411</td>\n",
       "    </tr>\n",
       "  </tbody>\n",
       "</table>\n",
       "</div>"
      ],
      "text/plain": [
       "              models  accuracy  precision    recall        f1       mcc\n",
       "2       results_body  0.937258   0.931932  0.944421  0.937907  0.874391\n",
       "0        results_all  0.935998   0.930730  0.943350  0.936779  0.871859\n",
       "3  results_titleplus  0.885795   0.898660  0.871399  0.884333  0.772303\n",
       "1      results_title  0.853797   0.867991  0.839682  0.852568  0.709411"
      ]
     },
     "execution_count": 47,
     "metadata": {},
     "output_type": "execute_result"
    }
   ],
   "source": [
    "results = pd.DataFrame(np.array([results_all, results_title, results_body, results_titleplus]), columns = ['accuracy', 'precision', 'recall', 'f1', 'mcc'])\n",
    "results[\"models\"] = [\"results_all\", \"results_title\", \"results_body\", \"results_titleplus\"]\n",
    "\n",
    "results = results[['models', 'accuracy', 'precision', 'recall', 'f1', 'mcc']]\n",
    "results = results.sort_values(by=['f1', 'mcc'], ascending=False)\n",
    "results"
   ]
  },
  {
   "cell_type": "markdown",
   "metadata": {},
   "source": [
    "## Conclusion"
   ]
  },
  {
   "cell_type": "markdown",
   "metadata": {},
   "source": [
    "Results on body (`results_body`) can be seen here as the best by a small margin. Throughout the project we noticed that results using title + body had the best results. For the main logistic regression model we chose the one trained on title + body (`results_all`).\n"
   ]
  }
 ],
 "metadata": {
  "kernelspec": {
   "display_name": "Python 3",
   "language": "python",
   "name": "python3"
  },
  "language_info": {
   "codemirror_mode": {
    "name": "ipython",
    "version": 3
   },
   "file_extension": ".py",
   "mimetype": "text/x-python",
   "name": "python",
   "nbconvert_exporter": "python",
   "pygments_lexer": "ipython3",
   "version": "3.7.2"
  }
 },
 "nbformat": 4,
 "nbformat_minor": 4
}
