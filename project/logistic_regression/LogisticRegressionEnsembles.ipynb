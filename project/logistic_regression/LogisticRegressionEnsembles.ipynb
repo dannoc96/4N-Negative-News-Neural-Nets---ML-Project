{
 "cells": [
  {
   "cell_type": "markdown",
   "metadata": {},
   "source": [
    "# Logistic Regression Ensembles"
   ]
  },
  {
   "cell_type": "markdown",
   "metadata": {},
   "source": [
    ">**Note:** This was run in Google Colab, so there is no direct reference to the data. The data used was the same as in repository."
   ]
  },
  {
   "cell_type": "markdown",
   "metadata": {},
   "source": [
    "## Imports"
   ]
  },
  {
   "cell_type": "code",
   "execution_count": 7,
   "metadata": {},
   "outputs": [],
   "source": [
    "import pandas as pd\n",
    "import numpy as np\n",
    "from sklearn.feature_extraction.text import CountVectorizer\n",
    "from sklearn.feature_extraction.text import TfidfVectorizer\n",
    "from sklearn.linear_model import LogisticRegression\n",
    "from sklearn.metrics import accuracy_score, precision_score, recall_score, f1_score, matthews_corrcoef\n",
    "from sklearn.model_selection import KFold\n",
    "from sklearn.ensemble import BaggingClassifier\n",
    "from sklearn.ensemble import AdaBoostClassifier"
   ]
  },
  {
   "cell_type": "markdown",
   "metadata": {},
   "source": [
    "## Load Data"
   ]
  },
  {
   "cell_type": "code",
   "execution_count": 2,
   "metadata": {},
   "outputs": [],
   "source": [
    "import os\n",
    "# Change directory to load preprocess script\n",
    "os.chdir(\"..\")"
   ]
  },
  {
   "cell_type": "code",
   "execution_count": 4,
   "metadata": {},
   "outputs": [],
   "source": [
    "from data_preprocess import getTrainData\n",
    "train_data_all = getTrainData(include_random=True) # article title + body\n",
    "train_data_body = getTrainData(include_random=True, no_title=True) # article body"
   ]
  },
  {
   "cell_type": "markdown",
   "metadata": {},
   "source": [
    "## Test"
   ]
  },
  {
   "cell_type": "code",
   "execution_count": 5,
   "metadata": {},
   "outputs": [],
   "source": [
    "def cross_validation(word_vectorizer, model, train_data):\n",
    "    i = 0\n",
    "    n = 6\n",
    "    seed = 42\n",
    "    \n",
    "    accuracy = np.zeros(n)\n",
    "    precision = np.zeros(n)\n",
    "    recall = np.zeros(n)\n",
    "    f1 = np.zeros(n)\n",
    "    mcc = np.zeros(n)\n",
    "    \n",
    "    kf = KFold(n_splits=n, shuffle=True, random_state=seed)\n",
    "    \n",
    "    X = train_data['text'].array\n",
    "    y = train_data['label'].array\n",
    "\n",
    "    for train_index, test_index in kf.split(X):\n",
    "        X_train, X_val = X[train_index], X[test_index]\n",
    "        y_train, y_val = y[train_index], y[test_index]\n",
    "\n",
    "        X_train_cv = word_vectorizer.fit_transform(X_train)\n",
    "        X_val_cv = word_vectorizer.transform(X_val)\n",
    "        \n",
    "        model.fit(X_train_cv, y_train)\n",
    "        predictions = model.predict(X_val_cv)\n",
    "\n",
    "        accuracy[i] = accuracy_score(y_val, predictions)\n",
    "        precision[i] = precision_score(y_val, predictions)\n",
    "        recall[i] = recall_score(y_val, predictions)\n",
    "        f1[i] = f1_score(y_val, predictions)\n",
    "        mcc[i] = matthews_corrcoef(y_val, predictions)\n",
    "        \n",
    "        i += 1\n",
    "    return np.mean(accuracy), np.mean(precision), np.mean(recall), np.mean(f1), np.mean(mcc)"
   ]
  },
  {
   "cell_type": "code",
   "execution_count": 6,
   "metadata": {},
   "outputs": [],
   "source": [
    "def printResults(result_name, results):\n",
    "    print(result_name)\n",
    "    print('Accuracy score: ', results[0])\n",
    "    print('Precision score: ', results[1])\n",
    "    print('Recall score: ', results[2])\n",
    "    print('F1 score: ', results[3])\n",
    "    print('MCC score: ', results[4])"
   ]
  },
  {
   "cell_type": "markdown",
   "metadata": {},
   "source": [
    "### BaggingClassifier"
   ]
  },
  {
   "cell_type": "code",
   "execution_count": 21,
   "metadata": {},
   "outputs": [],
   "source": [
    "cv = TfidfVectorizer(strip_accents='ascii', lowercase=True, stop_words='english')\n",
    "logr = LogisticRegression(random_state=0, C=17, penalty='l2', max_iter=1000)\n",
    "\n",
    "bagger = BaggingClassifier(random_state=0, base_estimator=logr, n_estimators=7, max_samples=0.8)\n",
    "results_bagging = cross_validation(cv, bagger, train_data_all)"
   ]
  },
  {
   "cell_type": "markdown",
   "metadata": {},
   "source": [
    "### AdaBoostClassifier"
   ]
  },
  {
   "cell_type": "code",
   "execution_count": 22,
   "metadata": {},
   "outputs": [],
   "source": [
    "cv = TfidfVectorizer(strip_accents='ascii', lowercase=True, stop_words='english')\n",
    "logr = LogisticRegression(random_state=0, C=17, penalty='l2', max_iter=1000)\n",
    "\n",
    "abc = AdaBoostClassifier(random_state=0, n_estimators=100, learning_rate=1, base_estimator=logr)\n",
    "results_abc = cross_validation(cv, abc, train_data_all)"
   ]
  },
  {
   "cell_type": "markdown",
   "metadata": {},
   "source": [
    "### Results"
   ]
  },
  {
   "cell_type": "code",
   "execution_count": 23,
   "metadata": {},
   "outputs": [
    {
     "data": {
      "text/html": [
       "<div>\n",
       "<style scoped>\n",
       "    .dataframe tbody tr th:only-of-type {\n",
       "        vertical-align: middle;\n",
       "    }\n",
       "\n",
       "    .dataframe tbody tr th {\n",
       "        vertical-align: top;\n",
       "    }\n",
       "\n",
       "    .dataframe thead th {\n",
       "        text-align: right;\n",
       "    }\n",
       "</style>\n",
       "<table border=\"1\" class=\"dataframe\">\n",
       "  <thead>\n",
       "    <tr style=\"text-align: right;\">\n",
       "      <th></th>\n",
       "      <th>models</th>\n",
       "      <th>accuracy</th>\n",
       "      <th>precision</th>\n",
       "      <th>recall</th>\n",
       "      <th>f1</th>\n",
       "      <th>mcc</th>\n",
       "    </tr>\n",
       "  </thead>\n",
       "  <tbody>\n",
       "    <tr>\n",
       "      <th>0</th>\n",
       "      <td>results_bagging</td>\n",
       "      <td>0.926588</td>\n",
       "      <td>0.927157</td>\n",
       "      <td>0.927668</td>\n",
       "      <td>0.927026</td>\n",
       "      <td>0.853414</td>\n",
       "    </tr>\n",
       "    <tr>\n",
       "      <th>1</th>\n",
       "      <td>results_abc</td>\n",
       "      <td>0.924715</td>\n",
       "      <td>0.924422</td>\n",
       "      <td>0.925626</td>\n",
       "      <td>0.924709</td>\n",
       "      <td>0.849522</td>\n",
       "    </tr>\n",
       "  </tbody>\n",
       "</table>\n",
       "</div>"
      ],
      "text/plain": [
       "            models  accuracy  precision    recall        f1       mcc\n",
       "0  results_bagging  0.926588   0.927157  0.927668  0.927026  0.853414\n",
       "1      results_abc  0.924715   0.924422  0.925626  0.924709  0.849522"
      ]
     },
     "execution_count": 23,
     "metadata": {},
     "output_type": "execute_result"
    }
   ],
   "source": [
    "results = pd.DataFrame(np.array([results_bagging, results_abc]), columns = ['accuracy', 'precision', 'recall', 'f1', 'mcc'])\n",
    "results[\"models\"] = [\"results_bagging\", \"results_abc\"]\n",
    "\n",
    "results = results[['models', 'accuracy', 'precision', 'recall', 'f1', 'mcc']]\n",
    "results = results.sort_values(by=['f1', 'mcc'], ascending=False)\n",
    "results"
   ]
  },
  {
   "cell_type": "markdown",
   "metadata": {},
   "source": [
    "## Conclusion"
   ]
  },
  {
   "cell_type": "markdown",
   "metadata": {},
   "source": [
    "We do not see improvements of base score (F1: 0.936779) using tested ensembles on logistic regression.\n",
    "\n",
    "> Note: We tried different parameters aswell."
   ]
  }
 ],
 "metadata": {
  "kernelspec": {
   "display_name": "Python 3",
   "language": "python",
   "name": "python3"
  },
  "language_info": {
   "codemirror_mode": {
    "name": "ipython",
    "version": 3
   },
   "file_extension": ".py",
   "mimetype": "text/x-python",
   "name": "python",
   "nbconvert_exporter": "python",
   "pygments_lexer": "ipython3",
   "version": "3.7.2"
  }
 },
 "nbformat": 4,
 "nbformat_minor": 4
}
