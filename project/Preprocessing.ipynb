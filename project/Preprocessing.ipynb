{
 "cells": [
  {
   "cell_type": "markdown",
   "metadata": {},
   "source": [
    "# Preprocessing"
   ]
  },
  {
   "cell_type": "markdown",
   "metadata": {},
   "source": [
    "## Imports"
   ]
  },
  {
   "cell_type": "code",
   "execution_count": 1,
   "metadata": {},
   "outputs": [
    {
     "name": "stderr",
     "output_type": "stream",
     "text": [
      "[nltk_data] Downloading package punkt to\n",
      "[nltk_data]     C:\\Users\\Dan\\AppData\\Roaming\\nltk_data...\n",
      "[nltk_data]   Package punkt is already up-to-date!\n"
     ]
    },
    {
     "data": {
      "text/plain": [
       "True"
      ]
     },
     "execution_count": 1,
     "metadata": {},
     "output_type": "execute_result"
    }
   ],
   "source": [
    "import pandas as pd\n",
    "import numpy as np\n",
    "import nltk\n",
    "nltk.download('punkt')"
   ]
  },
  {
   "cell_type": "markdown",
   "metadata": {},
   "source": [
    "## Load Data"
   ]
  },
  {
   "cell_type": "code",
   "execution_count": 27,
   "metadata": {},
   "outputs": [],
   "source": [
    "train_non_adverse = pd.read_csv(\"data/nam.csv\")\n",
    "train_adverse = pd.read_csv(\"data/am.csv\")\n",
    "train_random_additional = pd.read_csv(\"data/random.csv\")\n",
    "am_additional = pd.read_csv(\"data/am_additional.csv\")"
   ]
  },
  {
   "cell_type": "markdown",
   "metadata": {},
   "source": [
    "Filter only the labeled ones and drop if title or article is undefined"
   ]
  },
  {
   "cell_type": "code",
   "execution_count": 43,
   "metadata": {},
   "outputs": [],
   "source": [
    "train_concat = pd.concat([train_non_adverse, train_adverse, train_random_additional, am_additional], ignore_index=True)\n",
    "train_filtered = train_concat[(train_concat.label == \"nam\") | (train_concat.label == \"am\") | (train_concat.label == \"random\")]\n",
    "train_filtered = train_filtered.dropna(subset=['title', 'article'])"
   ]
  },
  {
   "cell_type": "code",
   "execution_count": 44,
   "metadata": {},
   "outputs": [
    {
     "data": {
      "text/html": [
       "<div>\n",
       "<style scoped>\n",
       "    .dataframe tbody tr th:only-of-type {\n",
       "        vertical-align: middle;\n",
       "    }\n",
       "\n",
       "    .dataframe tbody tr th {\n",
       "        vertical-align: top;\n",
       "    }\n",
       "\n",
       "    .dataframe thead th {\n",
       "        text-align: right;\n",
       "    }\n",
       "</style>\n",
       "<table border=\"1\" class=\"dataframe\">\n",
       "  <thead>\n",
       "    <tr style=\"text-align: right;\">\n",
       "      <th></th>\n",
       "      <th>source</th>\n",
       "      <th>entity_name</th>\n",
       "      <th>entity_type</th>\n",
       "      <th>explanation</th>\n",
       "      <th>label</th>\n",
       "      <th>url</th>\n",
       "      <th>article</th>\n",
       "      <th>full_response</th>\n",
       "      <th>assessor</th>\n",
       "      <th>title</th>\n",
       "    </tr>\n",
       "  </thead>\n",
       "  <tbody>\n",
       "    <tr>\n",
       "      <th>count</th>\n",
       "      <td>1195</td>\n",
       "      <td>1082</td>\n",
       "      <td>1086</td>\n",
       "      <td>665</td>\n",
       "      <td>1594</td>\n",
       "      <td>1296</td>\n",
       "      <td>1594</td>\n",
       "      <td>1196</td>\n",
       "      <td>728</td>\n",
       "      <td>1594</td>\n",
       "    </tr>\n",
       "    <tr>\n",
       "      <th>unique</th>\n",
       "      <td>9</td>\n",
       "      <td>793</td>\n",
       "      <td>17</td>\n",
       "      <td>381</td>\n",
       "      <td>3</td>\n",
       "      <td>1296</td>\n",
       "      <td>1594</td>\n",
       "      <td>1196</td>\n",
       "      <td>10</td>\n",
       "      <td>1582</td>\n",
       "    </tr>\n",
       "    <tr>\n",
       "      <th>top</th>\n",
       "      <td>Sebastien</td>\n",
       "      <td>Donald Trump</td>\n",
       "      <td>individual</td>\n",
       "      <td>corruption</td>\n",
       "      <td>am</td>\n",
       "      <td>https://www.financialfraudsternews.com/en/comp...</td>\n",
       "      <td>The number of people convicted for criminal of...</td>\n",
       "      <td>[{'query': {'id': '1605047554739-2fe438585304f...</td>\n",
       "      <td>Carel</td>\n",
       "      <td>Virginia airline founder charged with fraud, t...</td>\n",
       "    </tr>\n",
       "    <tr>\n",
       "      <th>freq</th>\n",
       "      <td>284</td>\n",
       "      <td>10</td>\n",
       "      <td>345</td>\n",
       "      <td>33</td>\n",
       "      <td>801</td>\n",
       "      <td>1</td>\n",
       "      <td>1</td>\n",
       "      <td>1</td>\n",
       "      <td>220</td>\n",
       "      <td>2</td>\n",
       "    </tr>\n",
       "  </tbody>\n",
       "</table>\n",
       "</div>"
      ],
      "text/plain": [
       "           source   entity_name entity_type explanation label  \\\n",
       "count        1195          1082        1086         665  1594   \n",
       "unique          9           793          17         381     3   \n",
       "top     Sebastien  Donald Trump  individual  corruption    am   \n",
       "freq          284            10         345          33   801   \n",
       "\n",
       "                                                      url  \\\n",
       "count                                                1296   \n",
       "unique                                               1296   \n",
       "top     https://www.financialfraudsternews.com/en/comp...   \n",
       "freq                                                    1   \n",
       "\n",
       "                                                  article  \\\n",
       "count                                                1594   \n",
       "unique                                               1594   \n",
       "top     The number of people convicted for criminal of...   \n",
       "freq                                                    1   \n",
       "\n",
       "                                            full_response assessor  \\\n",
       "count                                                1196      728   \n",
       "unique                                               1196       10   \n",
       "top     [{'query': {'id': '1605047554739-2fe438585304f...    Carel   \n",
       "freq                                                    1      220   \n",
       "\n",
       "                                                    title  \n",
       "count                                                1594  \n",
       "unique                                               1582  \n",
       "top     Virginia airline founder charged with fraud, t...  \n",
       "freq                                                    2  "
      ]
     },
     "execution_count": 44,
     "metadata": {},
     "output_type": "execute_result"
    }
   ],
   "source": [
    "train_filtered.describe()"
   ]
  },
  {
   "cell_type": "code",
   "execution_count": 45,
   "metadata": {},
   "outputs": [
    {
     "data": {
      "text/html": [
       "<div>\n",
       "<style scoped>\n",
       "    .dataframe tbody tr th:only-of-type {\n",
       "        vertical-align: middle;\n",
       "    }\n",
       "\n",
       "    .dataframe tbody tr th {\n",
       "        vertical-align: top;\n",
       "    }\n",
       "\n",
       "    .dataframe thead th {\n",
       "        text-align: right;\n",
       "    }\n",
       "</style>\n",
       "<table border=\"1\" class=\"dataframe\">\n",
       "  <thead>\n",
       "    <tr style=\"text-align: right;\">\n",
       "      <th></th>\n",
       "      <th>source</th>\n",
       "      <th>entity_name</th>\n",
       "      <th>entity_type</th>\n",
       "      <th>explanation</th>\n",
       "      <th>label</th>\n",
       "      <th>url</th>\n",
       "      <th>article</th>\n",
       "      <th>full_response</th>\n",
       "      <th>assessor</th>\n",
       "      <th>title</th>\n",
       "    </tr>\n",
       "  </thead>\n",
       "  <tbody>\n",
       "    <tr>\n",
       "      <th>0</th>\n",
       "      <td>Darya</td>\n",
       "      <td>Kevin Morais</td>\n",
       "      <td>individual</td>\n",
       "      <td>award for bravery towards corruption</td>\n",
       "      <td>nam</td>\n",
       "      <td>https://www.nst.com.my/news/nation/2020/02/564...</td>\n",
       "      <td>PUTRAJAYA: The late senior deputy public prose...</td>\n",
       "      <td>[{'query': {'id': '1605373858510-22ed9e7516161...</td>\n",
       "      <td>Shakshi</td>\n",
       "      <td>Kevin Morais named as recipient of Internation...</td>\n",
       "    </tr>\n",
       "    <tr>\n",
       "      <th>1</th>\n",
       "      <td>Carel</td>\n",
       "      <td>NaN</td>\n",
       "      <td>NaN</td>\n",
       "      <td>Bribery law</td>\n",
       "      <td>nam</td>\n",
       "      <td>https://www.gov.uk/government/publications/bri...</td>\n",
       "      <td>Details\\n\\nThe Bribery Act 2010 creates a new ...</td>\n",
       "      <td>[{'query': {'id': '1605369929260-65690a650021b...</td>\n",
       "      <td>Dan</td>\n",
       "      <td>Bribery Act 2010 guidance</td>\n",
       "    </tr>\n",
       "    <tr>\n",
       "      <th>2</th>\n",
       "      <td>Carel</td>\n",
       "      <td>NaN</td>\n",
       "      <td>NaN</td>\n",
       "      <td>Abstract of Insider Trading article</td>\n",
       "      <td>nam</td>\n",
       "      <td>https://www.jstor.org/stable/3666053?seq=1</td>\n",
       "      <td>Abstract\\n\\nTrading by corporate insiders has ...</td>\n",
       "      <td>[{'query': {'id': '1605369732277-abfa02170cbde...</td>\n",
       "      <td>Dan</td>\n",
       "      <td>For independent researchers</td>\n",
       "    </tr>\n",
       "  </tbody>\n",
       "</table>\n",
       "</div>"
      ],
      "text/plain": [
       "  source   entity_name entity_type                           explanation  \\\n",
       "0  Darya  Kevin Morais  individual  award for bravery towards corruption   \n",
       "1  Carel           NaN         NaN                           Bribery law   \n",
       "2  Carel           NaN         NaN   Abstract of Insider Trading article   \n",
       "\n",
       "  label                                                url  \\\n",
       "0   nam  https://www.nst.com.my/news/nation/2020/02/564...   \n",
       "1   nam  https://www.gov.uk/government/publications/bri...   \n",
       "2   nam         https://www.jstor.org/stable/3666053?seq=1   \n",
       "\n",
       "                                             article  \\\n",
       "0  PUTRAJAYA: The late senior deputy public prose...   \n",
       "1  Details\\n\\nThe Bribery Act 2010 creates a new ...   \n",
       "2  Abstract\\n\\nTrading by corporate insiders has ...   \n",
       "\n",
       "                                       full_response assessor  \\\n",
       "0  [{'query': {'id': '1605373858510-22ed9e7516161...  Shakshi   \n",
       "1  [{'query': {'id': '1605369929260-65690a650021b...      Dan   \n",
       "2  [{'query': {'id': '1605369732277-abfa02170cbde...      Dan   \n",
       "\n",
       "                                               title  \n",
       "0  Kevin Morais named as recipient of Internation...  \n",
       "1                          Bribery Act 2010 guidance  \n",
       "2                        For independent researchers  "
      ]
     },
     "execution_count": 45,
     "metadata": {},
     "output_type": "execute_result"
    }
   ],
   "source": [
    "train_filtered.head(3)"
   ]
  },
  {
   "cell_type": "code",
   "execution_count": 46,
   "metadata": {},
   "outputs": [
    {
     "data": {
      "text/plain": [
       "am        801\n",
       "nam       397\n",
       "random    396\n",
       "Name: label, dtype: int64"
      ]
     },
     "execution_count": 46,
     "metadata": {},
     "output_type": "execute_result"
    }
   ],
   "source": [
    "train_filtered.label.value_counts()"
   ]
  },
  {
   "cell_type": "markdown",
   "metadata": {},
   "source": [
    "There are 3 label types:\n",
    "\n",
    "* `am` - adverse media.\n",
    "* `nam` -  non adverse media, contains topics related to adverse media (tax evasion, corruption, ...) but not accusing anyone (article about how to stop corruption). \n",
    "* `random` - article that doesn't fall in any category described above."
   ]
  },
  {
   "cell_type": "markdown",
   "metadata": {},
   "source": [
    "## Functions"
   ]
  },
  {
   "cell_type": "markdown",
   "metadata": {},
   "source": [
    "Here we add functions that provide different data sets accorfing to our needs"
   ]
  },
  {
   "cell_type": "markdown",
   "metadata": {},
   "source": [
    "### Get full data (internal use)"
   ]
  },
  {
   "cell_type": "markdown",
   "metadata": {},
   "source": [
    "Used by `getTrainData` function"
   ]
  },
  {
   "cell_type": "code",
   "execution_count": 48,
   "metadata": {},
   "outputs": [],
   "source": [
    "def getData():\n",
    "    train_data = pd.DataFrame([])\n",
    "    train_data['text'] = train_filtered.article\n",
    "    train_data['label'] = train_filtered.label.map(dict(am=1, nam=0, random=2))\n",
    "\n",
    "    return train_data.copy()"
   ]
  },
  {
   "cell_type": "markdown",
   "metadata": {},
   "source": [
    "### Get full data (internal use)"
   ]
  },
  {
   "cell_type": "markdown",
   "metadata": {},
   "source": [
    "Used by `getTrainData` function"
   ]
  },
  {
   "cell_type": "code",
   "execution_count": 49,
   "metadata": {},
   "outputs": [],
   "source": [
    "def get_n_sentences(n):\n",
    "    train_data_sentences = pd.DataFrame([])\n",
    "    train_data_sentences['text'] = train_filtered.article.apply(lambda a: \" \".join(nltk.sent_tokenize(a)[0:n]))\n",
    "    train_data_sentences['label'] = train_filtered.label.map(dict(am=1, nam=0, random=2))\n",
    "    \n",
    "    return train_data_sentences.copy()"
   ]
  },
  {
   "cell_type": "markdown",
   "metadata": {},
   "source": [
    "### Full row by index (external use)"
   ]
  },
  {
   "cell_type": "markdown",
   "metadata": {},
   "source": [
    "Useful if you want to get full row with all columns e.g. `url`.\n",
    "\n",
    "This can be used when inpecting missclassified rows."
   ]
  },
  {
   "cell_type": "code",
   "execution_count": 51,
   "metadata": {},
   "outputs": [],
   "source": [
    "def getFullRowByIndex(idx):\n",
    "    return train_filtered.loc[idx]"
   ]
  },
  {
   "cell_type": "markdown",
   "metadata": {},
   "source": [
    "### Get train data (external use)"
   ]
  },
  {
   "cell_type": "markdown",
   "metadata": {},
   "source": [
    "Returns data set according to function arguments.\n",
    "Joins title and article in 1 column.\n",
    "\n",
    "Transforms `label` to integer.\n",
    "\n",
    "Arguments:\n",
    "* `include_random` - include random labels in data set\n",
    "* `random_as_2` - return random labels as 2 (default is 1)\n",
    "* `shuffle` - shuffle the data set\n",
    "* `no_title` - do not include the title\n",
    "* `n_sentences` - return first n sentences (if -1 returns all of them)\n",
    "\n",
    "Returns:\n",
    "* pandas data frame with 2 columns: `text`, `label`."
   ]
  },
  {
   "cell_type": "code",
   "execution_count": 50,
   "metadata": {},
   "outputs": [],
   "source": [
    "def getTrainData(include_random=False, random_as_2=False, shuffle=False, no_title=False, n_sentences=-1):\n",
    "    td = None\n",
    "    if n_sentences >= 0:\n",
    "        td = get_n_sentences(n_sentences)\n",
    "    else:\n",
    "        td = getData()\n",
    "    \n",
    "    if not no_title:\n",
    "        if n_sentences == 0:\n",
    "            td['text'] = train_filtered.title\n",
    "        else:\n",
    "            td['text'] = pd.DataFrame({ 'title': train_filtered.title, 'article': td.text }).agg('.\\n'.join, axis=1)\n",
    "    \n",
    "    if not include_random:\n",
    "        td = td.loc[td['label'] != 2]\n",
    "    \n",
    "    if not random_as_2:\n",
    "        td.loc[td['label'] == 2, 'label'] = 0\n",
    "    \n",
    "    if shuffle:\n",
    "        td = td.sample(frac=1)\n",
    "    \n",
    "    return td.copy()"
   ]
  },
  {
   "cell_type": "markdown",
   "metadata": {},
   "source": [
    "#### Examples of `getTrainData` function"
   ]
  },
  {
   "cell_type": "markdown",
   "metadata": {},
   "source": [
    "##### Get all data"
   ]
  },
  {
   "cell_type": "code",
   "execution_count": 64,
   "metadata": {},
   "outputs": [
    {
     "data": {
      "text/html": [
       "<div>\n",
       "<style scoped>\n",
       "    .dataframe tbody tr th:only-of-type {\n",
       "        vertical-align: middle;\n",
       "    }\n",
       "\n",
       "    .dataframe tbody tr th {\n",
       "        vertical-align: top;\n",
       "    }\n",
       "\n",
       "    .dataframe thead th {\n",
       "        text-align: right;\n",
       "    }\n",
       "</style>\n",
       "<table border=\"1\" class=\"dataframe\">\n",
       "  <thead>\n",
       "    <tr style=\"text-align: right;\">\n",
       "      <th></th>\n",
       "      <th>text</th>\n",
       "      <th>label</th>\n",
       "    </tr>\n",
       "  </thead>\n",
       "  <tbody>\n",
       "    <tr>\n",
       "      <th>0</th>\n",
       "      <td>Kevin Morais named as recipient of Internation...</td>\n",
       "      <td>0</td>\n",
       "    </tr>\n",
       "    <tr>\n",
       "      <th>1</th>\n",
       "      <td>Bribery Act 2010 guidance.\\nDetails\\n\\nThe Bri...</td>\n",
       "      <td>0</td>\n",
       "    </tr>\n",
       "    <tr>\n",
       "      <th>2</th>\n",
       "      <td>For independent researchers.\\nAbstract\\n\\nTrad...</td>\n",
       "      <td>0</td>\n",
       "    </tr>\n",
       "    <tr>\n",
       "      <th>3</th>\n",
       "      <td>Global FinTech Company Implements Automated &amp; ...</td>\n",
       "      <td>0</td>\n",
       "    </tr>\n",
       "    <tr>\n",
       "      <th>4</th>\n",
       "      <td>Pope Francis commits to clean finances amid sc...</td>\n",
       "      <td>0</td>\n",
       "    </tr>\n",
       "    <tr>\n",
       "      <th>...</th>\n",
       "      <td>...</td>\n",
       "      <td>...</td>\n",
       "    </tr>\n",
       "    <tr>\n",
       "      <th>1692</th>\n",
       "      <td>U.S indicts Venezuelan in kickback scheme link...</td>\n",
       "      <td>1</td>\n",
       "    </tr>\n",
       "    <tr>\n",
       "      <th>1693</th>\n",
       "      <td>Spokane health clinic owner charged with $5 mi...</td>\n",
       "      <td>1</td>\n",
       "    </tr>\n",
       "    <tr>\n",
       "      <th>1694</th>\n",
       "      <td>FirstEnergy credit rating downgraded to “junk”...</td>\n",
       "      <td>1</td>\n",
       "    </tr>\n",
       "    <tr>\n",
       "      <th>1695</th>\n",
       "      <td>Former Tangipahoa Parish Sheriff’s Office empl...</td>\n",
       "      <td>1</td>\n",
       "    </tr>\n",
       "    <tr>\n",
       "      <th>1696</th>\n",
       "      <td>OxyContin maker Purdue Pharma pleads guilty to...</td>\n",
       "      <td>1</td>\n",
       "    </tr>\n",
       "  </tbody>\n",
       "</table>\n",
       "<p>1594 rows × 2 columns</p>\n",
       "</div>"
      ],
      "text/plain": [
       "                                                   text  label\n",
       "0     Kevin Morais named as recipient of Internation...      0\n",
       "1     Bribery Act 2010 guidance.\\nDetails\\n\\nThe Bri...      0\n",
       "2     For independent researchers.\\nAbstract\\n\\nTrad...      0\n",
       "3     Global FinTech Company Implements Automated & ...      0\n",
       "4     Pope Francis commits to clean finances amid sc...      0\n",
       "...                                                 ...    ...\n",
       "1692  U.S indicts Venezuelan in kickback scheme link...      1\n",
       "1693  Spokane health clinic owner charged with $5 mi...      1\n",
       "1694  FirstEnergy credit rating downgraded to “junk”...      1\n",
       "1695  Former Tangipahoa Parish Sheriff’s Office empl...      1\n",
       "1696  OxyContin maker Purdue Pharma pleads guilty to...      1\n",
       "\n",
       "[1594 rows x 2 columns]"
      ]
     },
     "execution_count": 64,
     "metadata": {},
     "output_type": "execute_result"
    }
   ],
   "source": [
    "getTrainData(include_random=True)"
   ]
  },
  {
   "cell_type": "markdown",
   "metadata": {},
   "source": [
    "##### Get just title"
   ]
  },
  {
   "cell_type": "code",
   "execution_count": 59,
   "metadata": {},
   "outputs": [
    {
     "data": {
      "text/html": [
       "<div>\n",
       "<style scoped>\n",
       "    .dataframe tbody tr th:only-of-type {\n",
       "        vertical-align: middle;\n",
       "    }\n",
       "\n",
       "    .dataframe tbody tr th {\n",
       "        vertical-align: top;\n",
       "    }\n",
       "\n",
       "    .dataframe thead th {\n",
       "        text-align: right;\n",
       "    }\n",
       "</style>\n",
       "<table border=\"1\" class=\"dataframe\">\n",
       "  <thead>\n",
       "    <tr style=\"text-align: right;\">\n",
       "      <th></th>\n",
       "      <th>text</th>\n",
       "      <th>label</th>\n",
       "    </tr>\n",
       "  </thead>\n",
       "  <tbody>\n",
       "    <tr>\n",
       "      <th>0</th>\n",
       "      <td>Kevin Morais named as recipient of Internation...</td>\n",
       "      <td>0</td>\n",
       "    </tr>\n",
       "    <tr>\n",
       "      <th>1</th>\n",
       "      <td>Bribery Act 2010 guidance</td>\n",
       "      <td>0</td>\n",
       "    </tr>\n",
       "    <tr>\n",
       "      <th>2</th>\n",
       "      <td>For independent researchers</td>\n",
       "      <td>0</td>\n",
       "    </tr>\n",
       "    <tr>\n",
       "      <th>3</th>\n",
       "      <td>Global FinTech Company Implements Automated &amp; ...</td>\n",
       "      <td>0</td>\n",
       "    </tr>\n",
       "    <tr>\n",
       "      <th>4</th>\n",
       "      <td>Pope Francis commits to clean finances amid sc...</td>\n",
       "      <td>0</td>\n",
       "    </tr>\n",
       "    <tr>\n",
       "      <th>...</th>\n",
       "      <td>...</td>\n",
       "      <td>...</td>\n",
       "    </tr>\n",
       "    <tr>\n",
       "      <th>1692</th>\n",
       "      <td>U.S indicts Venezuelan in kickback scheme link...</td>\n",
       "      <td>1</td>\n",
       "    </tr>\n",
       "    <tr>\n",
       "      <th>1693</th>\n",
       "      <td>Spokane health clinic owner charged with $5 mi...</td>\n",
       "      <td>1</td>\n",
       "    </tr>\n",
       "    <tr>\n",
       "      <th>1694</th>\n",
       "      <td>FirstEnergy credit rating downgraded to “junk”...</td>\n",
       "      <td>1</td>\n",
       "    </tr>\n",
       "    <tr>\n",
       "      <th>1695</th>\n",
       "      <td>Former Tangipahoa Parish Sheriff’s Office empl...</td>\n",
       "      <td>1</td>\n",
       "    </tr>\n",
       "    <tr>\n",
       "      <th>1696</th>\n",
       "      <td>OxyContin maker Purdue Pharma pleads guilty to...</td>\n",
       "      <td>1</td>\n",
       "    </tr>\n",
       "  </tbody>\n",
       "</table>\n",
       "<p>1594 rows × 2 columns</p>\n",
       "</div>"
      ],
      "text/plain": [
       "                                                   text  label\n",
       "0     Kevin Morais named as recipient of Internation...      0\n",
       "1                             Bribery Act 2010 guidance      0\n",
       "2                           For independent researchers      0\n",
       "3     Global FinTech Company Implements Automated & ...      0\n",
       "4     Pope Francis commits to clean finances amid sc...      0\n",
       "...                                                 ...    ...\n",
       "1692  U.S indicts Venezuelan in kickback scheme link...      1\n",
       "1693  Spokane health clinic owner charged with $5 mi...      1\n",
       "1694  FirstEnergy credit rating downgraded to “junk”...      1\n",
       "1695  Former Tangipahoa Parish Sheriff’s Office empl...      1\n",
       "1696  OxyContin maker Purdue Pharma pleads guilty to...      1\n",
       "\n",
       "[1594 rows x 2 columns]"
      ]
     },
     "execution_count": 59,
     "metadata": {},
     "output_type": "execute_result"
    }
   ],
   "source": [
    "getTrainData(include_random=True, n_sentences=0)"
   ]
  },
  {
   "cell_type": "markdown",
   "metadata": {},
   "source": [
    "##### Get just article body"
   ]
  },
  {
   "cell_type": "code",
   "execution_count": 60,
   "metadata": {},
   "outputs": [
    {
     "data": {
      "text/html": [
       "<div>\n",
       "<style scoped>\n",
       "    .dataframe tbody tr th:only-of-type {\n",
       "        vertical-align: middle;\n",
       "    }\n",
       "\n",
       "    .dataframe tbody tr th {\n",
       "        vertical-align: top;\n",
       "    }\n",
       "\n",
       "    .dataframe thead th {\n",
       "        text-align: right;\n",
       "    }\n",
       "</style>\n",
       "<table border=\"1\" class=\"dataframe\">\n",
       "  <thead>\n",
       "    <tr style=\"text-align: right;\">\n",
       "      <th></th>\n",
       "      <th>text</th>\n",
       "      <th>label</th>\n",
       "    </tr>\n",
       "  </thead>\n",
       "  <tbody>\n",
       "    <tr>\n",
       "      <th>0</th>\n",
       "      <td>PUTRAJAYA: The late senior deputy public prose...</td>\n",
       "      <td>0</td>\n",
       "    </tr>\n",
       "    <tr>\n",
       "      <th>1</th>\n",
       "      <td>Details\\n\\nThe Bribery Act 2010 creates a new ...</td>\n",
       "      <td>0</td>\n",
       "    </tr>\n",
       "    <tr>\n",
       "      <th>2</th>\n",
       "      <td>Abstract\\n\\nTrading by corporate insiders has ...</td>\n",
       "      <td>0</td>\n",
       "    </tr>\n",
       "    <tr>\n",
       "      <th>3</th>\n",
       "      <td>As FinTech organizations grow and expand their...</td>\n",
       "      <td>0</td>\n",
       "    </tr>\n",
       "    <tr>\n",
       "      <th>4</th>\n",
       "      <td>Pope Francis told European anti-money launderi...</td>\n",
       "      <td>0</td>\n",
       "    </tr>\n",
       "    <tr>\n",
       "      <th>...</th>\n",
       "      <td>...</td>\n",
       "      <td>...</td>\n",
       "    </tr>\n",
       "    <tr>\n",
       "      <th>1692</th>\n",
       "      <td>A dual Venezuelan-Italian citizen who controll...</td>\n",
       "      <td>1</td>\n",
       "    </tr>\n",
       "    <tr>\n",
       "      <th>1693</th>\n",
       "      <td>The owner of a health clinic based in Spokane,...</td>\n",
       "      <td>1</td>\n",
       "    </tr>\n",
       "    <tr>\n",
       "      <th>1694</th>\n",
       "      <td>FirstEnergy‘s credit rating has been downgrade...</td>\n",
       "      <td>1</td>\n",
       "    </tr>\n",
       "    <tr>\n",
       "      <th>1695</th>\n",
       "      <td>A Tangipahoa Parish Sheriff’s Office employee ...</td>\n",
       "      <td>1</td>\n",
       "    </tr>\n",
       "    <tr>\n",
       "      <th>1696</th>\n",
       "      <td>Purdue Pharma LP pleaded guilty to criminal ch...</td>\n",
       "      <td>1</td>\n",
       "    </tr>\n",
       "  </tbody>\n",
       "</table>\n",
       "<p>1594 rows × 2 columns</p>\n",
       "</div>"
      ],
      "text/plain": [
       "                                                   text  label\n",
       "0     PUTRAJAYA: The late senior deputy public prose...      0\n",
       "1     Details\\n\\nThe Bribery Act 2010 creates a new ...      0\n",
       "2     Abstract\\n\\nTrading by corporate insiders has ...      0\n",
       "3     As FinTech organizations grow and expand their...      0\n",
       "4     Pope Francis told European anti-money launderi...      0\n",
       "...                                                 ...    ...\n",
       "1692  A dual Venezuelan-Italian citizen who controll...      1\n",
       "1693  The owner of a health clinic based in Spokane,...      1\n",
       "1694  FirstEnergy‘s credit rating has been downgrade...      1\n",
       "1695  A Tangipahoa Parish Sheriff’s Office employee ...      1\n",
       "1696  Purdue Pharma LP pleaded guilty to criminal ch...      1\n",
       "\n",
       "[1594 rows x 2 columns]"
      ]
     },
     "execution_count": 60,
     "metadata": {},
     "output_type": "execute_result"
    }
   ],
   "source": [
    "getTrainData(include_random=True, no_title=True)"
   ]
  },
  {
   "cell_type": "markdown",
   "metadata": {},
   "source": [
    "##### Get title + first sentence"
   ]
  },
  {
   "cell_type": "code",
   "execution_count": 61,
   "metadata": {},
   "outputs": [
    {
     "data": {
      "text/html": [
       "<div>\n",
       "<style scoped>\n",
       "    .dataframe tbody tr th:only-of-type {\n",
       "        vertical-align: middle;\n",
       "    }\n",
       "\n",
       "    .dataframe tbody tr th {\n",
       "        vertical-align: top;\n",
       "    }\n",
       "\n",
       "    .dataframe thead th {\n",
       "        text-align: right;\n",
       "    }\n",
       "</style>\n",
       "<table border=\"1\" class=\"dataframe\">\n",
       "  <thead>\n",
       "    <tr style=\"text-align: right;\">\n",
       "      <th></th>\n",
       "      <th>text</th>\n",
       "      <th>label</th>\n",
       "    </tr>\n",
       "  </thead>\n",
       "  <tbody>\n",
       "    <tr>\n",
       "      <th>0</th>\n",
       "      <td>Kevin Morais named as recipient of Internation...</td>\n",
       "      <td>0</td>\n",
       "    </tr>\n",
       "    <tr>\n",
       "      <th>1</th>\n",
       "      <td>Bribery Act 2010 guidance.\\nDetails\\n\\nThe Bri...</td>\n",
       "      <td>0</td>\n",
       "    </tr>\n",
       "    <tr>\n",
       "      <th>2</th>\n",
       "      <td>For independent researchers.\\nAbstract\\n\\nTrad...</td>\n",
       "      <td>0</td>\n",
       "    </tr>\n",
       "    <tr>\n",
       "      <th>3</th>\n",
       "      <td>Global FinTech Company Implements Automated &amp; ...</td>\n",
       "      <td>0</td>\n",
       "    </tr>\n",
       "    <tr>\n",
       "      <th>4</th>\n",
       "      <td>Pope Francis commits to clean finances amid sc...</td>\n",
       "      <td>0</td>\n",
       "    </tr>\n",
       "    <tr>\n",
       "      <th>...</th>\n",
       "      <td>...</td>\n",
       "      <td>...</td>\n",
       "    </tr>\n",
       "    <tr>\n",
       "      <th>1692</th>\n",
       "      <td>U.S indicts Venezuelan in kickback scheme link...</td>\n",
       "      <td>1</td>\n",
       "    </tr>\n",
       "    <tr>\n",
       "      <th>1693</th>\n",
       "      <td>Spokane health clinic owner charged with $5 mi...</td>\n",
       "      <td>1</td>\n",
       "    </tr>\n",
       "    <tr>\n",
       "      <th>1694</th>\n",
       "      <td>FirstEnergy credit rating downgraded to “junk”...</td>\n",
       "      <td>1</td>\n",
       "    </tr>\n",
       "    <tr>\n",
       "      <th>1695</th>\n",
       "      <td>Former Tangipahoa Parish Sheriff’s Office empl...</td>\n",
       "      <td>1</td>\n",
       "    </tr>\n",
       "    <tr>\n",
       "      <th>1696</th>\n",
       "      <td>OxyContin maker Purdue Pharma pleads guilty to...</td>\n",
       "      <td>1</td>\n",
       "    </tr>\n",
       "  </tbody>\n",
       "</table>\n",
       "<p>1594 rows × 2 columns</p>\n",
       "</div>"
      ],
      "text/plain": [
       "                                                   text  label\n",
       "0     Kevin Morais named as recipient of Internation...      0\n",
       "1     Bribery Act 2010 guidance.\\nDetails\\n\\nThe Bri...      0\n",
       "2     For independent researchers.\\nAbstract\\n\\nTrad...      0\n",
       "3     Global FinTech Company Implements Automated & ...      0\n",
       "4     Pope Francis commits to clean finances amid sc...      0\n",
       "...                                                 ...    ...\n",
       "1692  U.S indicts Venezuelan in kickback scheme link...      1\n",
       "1693  Spokane health clinic owner charged with $5 mi...      1\n",
       "1694  FirstEnergy credit rating downgraded to “junk”...      1\n",
       "1695  Former Tangipahoa Parish Sheriff’s Office empl...      1\n",
       "1696  OxyContin maker Purdue Pharma pleads guilty to...      1\n",
       "\n",
       "[1594 rows x 2 columns]"
      ]
     },
     "execution_count": 61,
     "metadata": {},
     "output_type": "execute_result"
    }
   ],
   "source": [
    "getTrainData(include_random=True, n_sentences=1)"
   ]
  }
 ],
 "metadata": {
  "kernelspec": {
   "display_name": "Python 3",
   "language": "python",
   "name": "python3"
  },
  "language_info": {
   "codemirror_mode": {
    "name": "ipython",
    "version": 3
   },
   "file_extension": ".py",
   "mimetype": "text/x-python",
   "name": "python",
   "nbconvert_exporter": "python",
   "pygments_lexer": "ipython3",
   "version": "3.7.2"
  }
 },
 "nbformat": 4,
 "nbformat_minor": 4
}
