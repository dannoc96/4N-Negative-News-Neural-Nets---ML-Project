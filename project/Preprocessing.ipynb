{
 "cells": [
  {
   "cell_type": "markdown",
   "metadata": {},
   "source": [
    "# Preprocessing"
   ]
  },
  {
   "cell_type": "markdown",
   "metadata": {},
   "source": [
    "## Imports"
   ]
  },
  {
   "cell_type": "code",
   "execution_count": 33,
   "metadata": {
    "scrolled": true
   },
   "outputs": [
    {
     "name": "stderr",
     "output_type": "stream",
     "text": [
      "[nltk_data] Downloading package punkt to\n",
      "[nltk_data]     C:\\Users\\Dan\\AppData\\Roaming\\nltk_data...\n",
      "[nltk_data]   Package punkt is already up-to-date!\n"
     ]
    },
    {
     "data": {
      "text/plain": [
       "True"
      ]
     },
     "execution_count": 33,
     "metadata": {},
     "output_type": "execute_result"
    }
   ],
   "source": [
    "import pandas as pd\n",
    "import numpy as np\n",
    "import nltk\n",
    "from collections import Counter\n",
    "import matplotlib.pyplot as plt\n",
    "from sklearn.feature_extraction.text import CountVectorizer\n",
    "nltk.download('punkt')"
   ]
  },
  {
   "cell_type": "markdown",
   "metadata": {},
   "source": [
    "## Load Data"
   ]
  },
  {
   "cell_type": "code",
   "execution_count": 2,
   "metadata": {},
   "outputs": [],
   "source": [
    "train_non_adverse = pd.read_csv(\"data/nam.csv\")\n",
    "train_adverse = pd.read_csv(\"data/am.csv\")\n",
    "train_random_additional = pd.read_csv(\"data/random.csv\")\n",
    "am_additional = pd.read_csv(\"data/am_additional.csv\")\n",
    "test = pd.read_csv(\"data/test.csv\", usecols=[\"title\", \"article\", \"label\"])"
   ]
  },
  {
   "cell_type": "markdown",
   "metadata": {},
   "source": [
    "### Train Data"
   ]
  },
  {
   "cell_type": "markdown",
   "metadata": {},
   "source": [
    "Filter only the labeled ones and drop if title or article is undefined"
   ]
  },
  {
   "cell_type": "code",
   "execution_count": 3,
   "metadata": {},
   "outputs": [],
   "source": [
    "train_concat = pd.concat([train_non_adverse, train_adverse, train_random_additional, am_additional], ignore_index=True)\n",
    "train_filtered = train_concat[(train_concat.label == \"nam\") | (train_concat.label == \"am\") | (train_concat.label == \"random\")]\n",
    "train_filtered = train_filtered.dropna(subset=['title', 'article'])"
   ]
  },
  {
   "cell_type": "code",
   "execution_count": 4,
   "metadata": {},
   "outputs": [
    {
     "data": {
      "text/html": [
       "<div>\n",
       "<style scoped>\n",
       "    .dataframe tbody tr th:only-of-type {\n",
       "        vertical-align: middle;\n",
       "    }\n",
       "\n",
       "    .dataframe tbody tr th {\n",
       "        vertical-align: top;\n",
       "    }\n",
       "\n",
       "    .dataframe thead th {\n",
       "        text-align: right;\n",
       "    }\n",
       "</style>\n",
       "<table border=\"1\" class=\"dataframe\">\n",
       "  <thead>\n",
       "    <tr style=\"text-align: right;\">\n",
       "      <th></th>\n",
       "      <th>source</th>\n",
       "      <th>entity_name</th>\n",
       "      <th>entity_type</th>\n",
       "      <th>explanation</th>\n",
       "      <th>label</th>\n",
       "      <th>url</th>\n",
       "      <th>article</th>\n",
       "      <th>full_response</th>\n",
       "      <th>assessor</th>\n",
       "      <th>title</th>\n",
       "    </tr>\n",
       "  </thead>\n",
       "  <tbody>\n",
       "    <tr>\n",
       "      <th>count</th>\n",
       "      <td>1195</td>\n",
       "      <td>1082</td>\n",
       "      <td>1086</td>\n",
       "      <td>665</td>\n",
       "      <td>1594</td>\n",
       "      <td>1296</td>\n",
       "      <td>1594</td>\n",
       "      <td>1196</td>\n",
       "      <td>728</td>\n",
       "      <td>1594</td>\n",
       "    </tr>\n",
       "    <tr>\n",
       "      <th>unique</th>\n",
       "      <td>9</td>\n",
       "      <td>793</td>\n",
       "      <td>17</td>\n",
       "      <td>381</td>\n",
       "      <td>3</td>\n",
       "      <td>1296</td>\n",
       "      <td>1594</td>\n",
       "      <td>1196</td>\n",
       "      <td>10</td>\n",
       "      <td>1582</td>\n",
       "    </tr>\n",
       "    <tr>\n",
       "      <th>top</th>\n",
       "      <td>Sebastien</td>\n",
       "      <td>John McAfee</td>\n",
       "      <td>individual</td>\n",
       "      <td>corruption</td>\n",
       "      <td>am</td>\n",
       "      <td>https://www.dailymail.co.uk/tvshowbiz/article-...</td>\n",
       "      <td>Over the last few weeks all eyes in the crypto...</td>\n",
       "      <td>[{'query': {'id': '1605369253561-31fd81422a05b...</td>\n",
       "      <td>Carel</td>\n",
       "      <td>John McAfee Indicted for Tax Evasion</td>\n",
       "    </tr>\n",
       "    <tr>\n",
       "      <th>freq</th>\n",
       "      <td>284</td>\n",
       "      <td>10</td>\n",
       "      <td>345</td>\n",
       "      <td>33</td>\n",
       "      <td>801</td>\n",
       "      <td>1</td>\n",
       "      <td>1</td>\n",
       "      <td>1</td>\n",
       "      <td>220</td>\n",
       "      <td>2</td>\n",
       "    </tr>\n",
       "  </tbody>\n",
       "</table>\n",
       "</div>"
      ],
      "text/plain": [
       "           source  entity_name entity_type explanation label  \\\n",
       "count        1195         1082        1086         665  1594   \n",
       "unique          9          793          17         381     3   \n",
       "top     Sebastien  John McAfee  individual  corruption    am   \n",
       "freq          284           10         345          33   801   \n",
       "\n",
       "                                                      url  \\\n",
       "count                                                1296   \n",
       "unique                                               1296   \n",
       "top     https://www.dailymail.co.uk/tvshowbiz/article-...   \n",
       "freq                                                    1   \n",
       "\n",
       "                                                  article  \\\n",
       "count                                                1594   \n",
       "unique                                               1594   \n",
       "top     Over the last few weeks all eyes in the crypto...   \n",
       "freq                                                    1   \n",
       "\n",
       "                                            full_response assessor  \\\n",
       "count                                                1196      728   \n",
       "unique                                               1196       10   \n",
       "top     [{'query': {'id': '1605369253561-31fd81422a05b...    Carel   \n",
       "freq                                                    1      220   \n",
       "\n",
       "                                       title  \n",
       "count                                   1594  \n",
       "unique                                  1582  \n",
       "top     John McAfee Indicted for Tax Evasion  \n",
       "freq                                       2  "
      ]
     },
     "execution_count": 4,
     "metadata": {},
     "output_type": "execute_result"
    }
   ],
   "source": [
    "train_filtered.describe()"
   ]
  },
  {
   "cell_type": "code",
   "execution_count": 5,
   "metadata": {},
   "outputs": [
    {
     "data": {
      "text/html": [
       "<div>\n",
       "<style scoped>\n",
       "    .dataframe tbody tr th:only-of-type {\n",
       "        vertical-align: middle;\n",
       "    }\n",
       "\n",
       "    .dataframe tbody tr th {\n",
       "        vertical-align: top;\n",
       "    }\n",
       "\n",
       "    .dataframe thead th {\n",
       "        text-align: right;\n",
       "    }\n",
       "</style>\n",
       "<table border=\"1\" class=\"dataframe\">\n",
       "  <thead>\n",
       "    <tr style=\"text-align: right;\">\n",
       "      <th></th>\n",
       "      <th>source</th>\n",
       "      <th>entity_name</th>\n",
       "      <th>entity_type</th>\n",
       "      <th>explanation</th>\n",
       "      <th>label</th>\n",
       "      <th>url</th>\n",
       "      <th>article</th>\n",
       "      <th>full_response</th>\n",
       "      <th>assessor</th>\n",
       "      <th>title</th>\n",
       "    </tr>\n",
       "  </thead>\n",
       "  <tbody>\n",
       "    <tr>\n",
       "      <th>0</th>\n",
       "      <td>Darya</td>\n",
       "      <td>Kevin Morais</td>\n",
       "      <td>individual</td>\n",
       "      <td>award for bravery towards corruption</td>\n",
       "      <td>nam</td>\n",
       "      <td>https://www.nst.com.my/news/nation/2020/02/564...</td>\n",
       "      <td>PUTRAJAYA: The late senior deputy public prose...</td>\n",
       "      <td>[{'query': {'id': '1605373858510-22ed9e7516161...</td>\n",
       "      <td>Shakshi</td>\n",
       "      <td>Kevin Morais named as recipient of Internation...</td>\n",
       "    </tr>\n",
       "    <tr>\n",
       "      <th>1</th>\n",
       "      <td>Carel</td>\n",
       "      <td>NaN</td>\n",
       "      <td>NaN</td>\n",
       "      <td>Bribery law</td>\n",
       "      <td>nam</td>\n",
       "      <td>https://www.gov.uk/government/publications/bri...</td>\n",
       "      <td>Details\\n\\nThe Bribery Act 2010 creates a new ...</td>\n",
       "      <td>[{'query': {'id': '1605369929260-65690a650021b...</td>\n",
       "      <td>Dan</td>\n",
       "      <td>Bribery Act 2010 guidance</td>\n",
       "    </tr>\n",
       "    <tr>\n",
       "      <th>2</th>\n",
       "      <td>Carel</td>\n",
       "      <td>NaN</td>\n",
       "      <td>NaN</td>\n",
       "      <td>Abstract of Insider Trading article</td>\n",
       "      <td>nam</td>\n",
       "      <td>https://www.jstor.org/stable/3666053?seq=1</td>\n",
       "      <td>Abstract\\n\\nTrading by corporate insiders has ...</td>\n",
       "      <td>[{'query': {'id': '1605369732277-abfa02170cbde...</td>\n",
       "      <td>Dan</td>\n",
       "      <td>For independent researchers</td>\n",
       "    </tr>\n",
       "  </tbody>\n",
       "</table>\n",
       "</div>"
      ],
      "text/plain": [
       "  source   entity_name entity_type                           explanation  \\\n",
       "0  Darya  Kevin Morais  individual  award for bravery towards corruption   \n",
       "1  Carel           NaN         NaN                           Bribery law   \n",
       "2  Carel           NaN         NaN   Abstract of Insider Trading article   \n",
       "\n",
       "  label                                                url  \\\n",
       "0   nam  https://www.nst.com.my/news/nation/2020/02/564...   \n",
       "1   nam  https://www.gov.uk/government/publications/bri...   \n",
       "2   nam         https://www.jstor.org/stable/3666053?seq=1   \n",
       "\n",
       "                                             article  \\\n",
       "0  PUTRAJAYA: The late senior deputy public prose...   \n",
       "1  Details\\n\\nThe Bribery Act 2010 creates a new ...   \n",
       "2  Abstract\\n\\nTrading by corporate insiders has ...   \n",
       "\n",
       "                                       full_response assessor  \\\n",
       "0  [{'query': {'id': '1605373858510-22ed9e7516161...  Shakshi   \n",
       "1  [{'query': {'id': '1605369929260-65690a650021b...      Dan   \n",
       "2  [{'query': {'id': '1605369732277-abfa02170cbde...      Dan   \n",
       "\n",
       "                                               title  \n",
       "0  Kevin Morais named as recipient of Internation...  \n",
       "1                          Bribery Act 2010 guidance  \n",
       "2                        For independent researchers  "
      ]
     },
     "execution_count": 5,
     "metadata": {},
     "output_type": "execute_result"
    }
   ],
   "source": [
    "train_filtered.head(3)"
   ]
  },
  {
   "cell_type": "code",
   "execution_count": 6,
   "metadata": {},
   "outputs": [
    {
     "data": {
      "text/plain": [
       "am        801\n",
       "nam       397\n",
       "random    396\n",
       "Name: label, dtype: int64"
      ]
     },
     "execution_count": 6,
     "metadata": {},
     "output_type": "execute_result"
    }
   ],
   "source": [
    "train_filtered.label.value_counts()"
   ]
  },
  {
   "cell_type": "markdown",
   "metadata": {},
   "source": [
    "There are 3 label types:\n",
    "\n",
    "* `am` - adverse media.\n",
    "* `nam` -  non adverse media, contains topics related to adverse media (tax evasion, corruption, ...) but not accusing anyone (article about how to stop corruption). \n",
    "* `random` - article that doesn't fall in any category described above."
   ]
  },
  {
   "cell_type": "markdown",
   "metadata": {},
   "source": [
    "### Test Data"
   ]
  },
  {
   "cell_type": "code",
   "execution_count": 7,
   "metadata": {},
   "outputs": [
    {
     "data": {
      "text/html": [
       "<div>\n",
       "<style scoped>\n",
       "    .dataframe tbody tr th:only-of-type {\n",
       "        vertical-align: middle;\n",
       "    }\n",
       "\n",
       "    .dataframe tbody tr th {\n",
       "        vertical-align: top;\n",
       "    }\n",
       "\n",
       "    .dataframe thead th {\n",
       "        text-align: right;\n",
       "    }\n",
       "</style>\n",
       "<table border=\"1\" class=\"dataframe\">\n",
       "  <thead>\n",
       "    <tr style=\"text-align: right;\">\n",
       "      <th></th>\n",
       "      <th>title</th>\n",
       "      <th>article</th>\n",
       "      <th>label</th>\n",
       "    </tr>\n",
       "  </thead>\n",
       "  <tbody>\n",
       "    <tr>\n",
       "      <th>0</th>\n",
       "      <td>Caputo concealed Cayman Island offshore firms ...</td>\n",
       "      <td>By Sandra Crucianelli, Emilia Delfino y From B...</td>\n",
       "      <td>1</td>\n",
       "    </tr>\n",
       "    <tr>\n",
       "      <th>1</th>\n",
       "      <td>California Man Pleads Guilty in $6 Million Art...</td>\n",
       "      <td>A California man pleaded guilty in federal cou...</td>\n",
       "      <td>1</td>\n",
       "    </tr>\n",
       "    <tr>\n",
       "      <th>2</th>\n",
       "      <td>Couple jailed for laundering £50m</td>\n",
       "      <td>A couple who ran a diamond trading business ha...</td>\n",
       "      <td>1</td>\n",
       "    </tr>\n",
       "    <tr>\n",
       "      <th>3</th>\n",
       "      <td>John Gilligan charged with money laundering of...</td>\n",
       "      <td>image copyrightRTÉ\\n\\nA Dublin man has been ch...</td>\n",
       "      <td>1</td>\n",
       "    </tr>\n",
       "    <tr>\n",
       "      <th>4</th>\n",
       "      <td>Grace Mugabe faces arrest in Mary Chiwenga Sty...</td>\n",
       "      <td>Zimbabwe News\\n\\nGrace Mugabe faces arrest in ...</td>\n",
       "      <td>1</td>\n",
       "    </tr>\n",
       "  </tbody>\n",
       "</table>\n",
       "</div>"
      ],
      "text/plain": [
       "                                               title  \\\n",
       "0  Caputo concealed Cayman Island offshore firms ...   \n",
       "1  California Man Pleads Guilty in $6 Million Art...   \n",
       "2                  Couple jailed for laundering £50m   \n",
       "3  John Gilligan charged with money laundering of...   \n",
       "4  Grace Mugabe faces arrest in Mary Chiwenga Sty...   \n",
       "\n",
       "                                             article  label  \n",
       "0  By Sandra Crucianelli, Emilia Delfino y From B...      1  \n",
       "1  A California man pleaded guilty in federal cou...      1  \n",
       "2  A couple who ran a diamond trading business ha...      1  \n",
       "3  image copyrightRTÉ\\n\\nA Dublin man has been ch...      1  \n",
       "4  Zimbabwe News\\n\\nGrace Mugabe faces arrest in ...      1  "
      ]
     },
     "execution_count": 7,
     "metadata": {},
     "output_type": "execute_result"
    }
   ],
   "source": [
    "test.head()"
   ]
  },
  {
   "cell_type": "code",
   "execution_count": 8,
   "metadata": {},
   "outputs": [
    {
     "data": {
      "text/plain": [
       "1    97\n",
       "0    62\n",
       "Name: label, dtype: int64"
      ]
     },
     "execution_count": 8,
     "metadata": {},
     "output_type": "execute_result"
    }
   ],
   "source": [
    "test.label.value_counts()"
   ]
  },
  {
   "cell_type": "markdown",
   "metadata": {},
   "source": [
    "* 0 is non-adverse/random\n",
    "* 1 is adverse"
   ]
  },
  {
   "cell_type": "markdown",
   "metadata": {},
   "source": [
    "## Functions"
   ]
  },
  {
   "cell_type": "markdown",
   "metadata": {},
   "source": [
    "Here we add functions that provide different data sets accorfing to our needs"
   ]
  },
  {
   "cell_type": "markdown",
   "metadata": {},
   "source": [
    "### Get full data (internal use)"
   ]
  },
  {
   "cell_type": "markdown",
   "metadata": {},
   "source": [
    "Used by `getTrainData` function"
   ]
  },
  {
   "cell_type": "code",
   "execution_count": 9,
   "metadata": {},
   "outputs": [],
   "source": [
    "def getData():\n",
    "    train_data = pd.DataFrame([])\n",
    "    train_data['text'] = train_filtered.article\n",
    "    train_data['label'] = train_filtered.label.map(dict(am=1, nam=0, random=2))\n",
    "\n",
    "    return train_data.copy()"
   ]
  },
  {
   "cell_type": "markdown",
   "metadata": {},
   "source": [
    "### Get full data (internal use)"
   ]
  },
  {
   "cell_type": "markdown",
   "metadata": {},
   "source": [
    "Used by `getTrainData` function"
   ]
  },
  {
   "cell_type": "code",
   "execution_count": 10,
   "metadata": {},
   "outputs": [],
   "source": [
    "def get_n_sentences(n):\n",
    "    train_data_sentences = pd.DataFrame([])\n",
    "    train_data_sentences['text'] = train_filtered.article.apply(lambda a: \" \".join(nltk.sent_tokenize(a)[0:n]))\n",
    "    train_data_sentences['label'] = train_filtered.label.map(dict(am=1, nam=0, random=2))\n",
    "    \n",
    "    return train_data_sentences.copy()"
   ]
  },
  {
   "cell_type": "markdown",
   "metadata": {},
   "source": [
    "### Full row by index (external use)"
   ]
  },
  {
   "cell_type": "markdown",
   "metadata": {},
   "source": [
    "Useful if you want to get full row with all columns e.g. `url`.\n",
    "\n",
    "This can be used when inpecting missclassified rows.\n",
    "\n",
    "Also accepts array of indexes."
   ]
  },
  {
   "cell_type": "code",
   "execution_count": 11,
   "metadata": {},
   "outputs": [],
   "source": [
    "def getFullRowByIndex(idx):\n",
    "    return train_filtered.loc[idx]"
   ]
  },
  {
   "cell_type": "markdown",
   "metadata": {},
   "source": [
    "#### Examples of `getFullRowByIndex` function"
   ]
  },
  {
   "cell_type": "markdown",
   "metadata": {},
   "source": [
    "##### Get full row of index 0 and 1"
   ]
  },
  {
   "cell_type": "code",
   "execution_count": 12,
   "metadata": {},
   "outputs": [
    {
     "data": {
      "text/html": [
       "<div>\n",
       "<style scoped>\n",
       "    .dataframe tbody tr th:only-of-type {\n",
       "        vertical-align: middle;\n",
       "    }\n",
       "\n",
       "    .dataframe tbody tr th {\n",
       "        vertical-align: top;\n",
       "    }\n",
       "\n",
       "    .dataframe thead th {\n",
       "        text-align: right;\n",
       "    }\n",
       "</style>\n",
       "<table border=\"1\" class=\"dataframe\">\n",
       "  <thead>\n",
       "    <tr style=\"text-align: right;\">\n",
       "      <th></th>\n",
       "      <th>source</th>\n",
       "      <th>entity_name</th>\n",
       "      <th>entity_type</th>\n",
       "      <th>explanation</th>\n",
       "      <th>label</th>\n",
       "      <th>url</th>\n",
       "      <th>article</th>\n",
       "      <th>full_response</th>\n",
       "      <th>assessor</th>\n",
       "      <th>title</th>\n",
       "    </tr>\n",
       "  </thead>\n",
       "  <tbody>\n",
       "    <tr>\n",
       "      <th>0</th>\n",
       "      <td>Darya</td>\n",
       "      <td>Kevin Morais</td>\n",
       "      <td>individual</td>\n",
       "      <td>award for bravery towards corruption</td>\n",
       "      <td>nam</td>\n",
       "      <td>https://www.nst.com.my/news/nation/2020/02/564...</td>\n",
       "      <td>PUTRAJAYA: The late senior deputy public prose...</td>\n",
       "      <td>[{'query': {'id': '1605373858510-22ed9e7516161...</td>\n",
       "      <td>Shakshi</td>\n",
       "      <td>Kevin Morais named as recipient of Internation...</td>\n",
       "    </tr>\n",
       "    <tr>\n",
       "      <th>1</th>\n",
       "      <td>Carel</td>\n",
       "      <td>NaN</td>\n",
       "      <td>NaN</td>\n",
       "      <td>Bribery law</td>\n",
       "      <td>nam</td>\n",
       "      <td>https://www.gov.uk/government/publications/bri...</td>\n",
       "      <td>Details\\n\\nThe Bribery Act 2010 creates a new ...</td>\n",
       "      <td>[{'query': {'id': '1605369929260-65690a650021b...</td>\n",
       "      <td>Dan</td>\n",
       "      <td>Bribery Act 2010 guidance</td>\n",
       "    </tr>\n",
       "  </tbody>\n",
       "</table>\n",
       "</div>"
      ],
      "text/plain": [
       "  source   entity_name entity_type                           explanation  \\\n",
       "0  Darya  Kevin Morais  individual  award for bravery towards corruption   \n",
       "1  Carel           NaN         NaN                           Bribery law   \n",
       "\n",
       "  label                                                url  \\\n",
       "0   nam  https://www.nst.com.my/news/nation/2020/02/564...   \n",
       "1   nam  https://www.gov.uk/government/publications/bri...   \n",
       "\n",
       "                                             article  \\\n",
       "0  PUTRAJAYA: The late senior deputy public prose...   \n",
       "1  Details\\n\\nThe Bribery Act 2010 creates a new ...   \n",
       "\n",
       "                                       full_response assessor  \\\n",
       "0  [{'query': {'id': '1605373858510-22ed9e7516161...  Shakshi   \n",
       "1  [{'query': {'id': '1605369929260-65690a650021b...      Dan   \n",
       "\n",
       "                                               title  \n",
       "0  Kevin Morais named as recipient of Internation...  \n",
       "1                          Bribery Act 2010 guidance  "
      ]
     },
     "execution_count": 12,
     "metadata": {},
     "output_type": "execute_result"
    }
   ],
   "source": [
    "getFullRowByIndex([0, 1])"
   ]
  },
  {
   "cell_type": "markdown",
   "metadata": {},
   "source": [
    "### Get train data (external use)"
   ]
  },
  {
   "cell_type": "markdown",
   "metadata": {},
   "source": [
    "Returns data set according to function arguments.\n",
    "Joins title and article in 1 column.\n",
    "\n",
    "Transforms `label` to integer.\n",
    "\n",
    "Arguments:\n",
    "* `include_random` - include random labels in data set\n",
    "* `random_as_2` - return random labels as `2` (default is `0`)\n",
    "* `shuffle` - shuffle the data set\n",
    "* `no_title` - do not include the title\n",
    "* `n_sentences` - return first n sentences (if `-1` returns all of them)\n",
    "\n",
    "Returns:\n",
    "* pandas data frame with 2 columns: `text`, `label`. Label `0` is non-adverse/random, `1` is adverse."
   ]
  },
  {
   "cell_type": "code",
   "execution_count": 13,
   "metadata": {},
   "outputs": [],
   "source": [
    "def getTrainData(include_random=False, random_as_2=False, shuffle=False, no_title=False, n_sentences=-1):\n",
    "    td = None\n",
    "    if n_sentences >= 0:\n",
    "        td = get_n_sentences(n_sentences)\n",
    "    else:\n",
    "        td = getData()\n",
    "    \n",
    "    if not no_title:\n",
    "        if n_sentences == 0:\n",
    "            td['text'] = train_filtered.title\n",
    "        else:\n",
    "            td['text'] = pd.DataFrame({ 'title': train_filtered.title, 'article': td.text }).agg('.\\n'.join, axis=1)\n",
    "    \n",
    "    if not include_random:\n",
    "        td = td.loc[td['label'] != 2]\n",
    "    \n",
    "    if not random_as_2:\n",
    "        td.loc[td['label'] == 2, 'label'] = 0\n",
    "    \n",
    "    if shuffle:\n",
    "        td = td.sample(frac=1)\n",
    "    \n",
    "    return td.copy()"
   ]
  },
  {
   "cell_type": "markdown",
   "metadata": {},
   "source": [
    "#### Examples of `getTrainData` function"
   ]
  },
  {
   "cell_type": "markdown",
   "metadata": {},
   "source": [
    "##### Get full data"
   ]
  },
  {
   "cell_type": "code",
   "execution_count": 14,
   "metadata": {},
   "outputs": [],
   "source": [
    "full = getTrainData(include_random=True)"
   ]
  },
  {
   "cell_type": "code",
   "execution_count": 15,
   "metadata": {},
   "outputs": [
    {
     "data": {
      "text/html": [
       "<div>\n",
       "<style scoped>\n",
       "    .dataframe tbody tr th:only-of-type {\n",
       "        vertical-align: middle;\n",
       "    }\n",
       "\n",
       "    .dataframe tbody tr th {\n",
       "        vertical-align: top;\n",
       "    }\n",
       "\n",
       "    .dataframe thead th {\n",
       "        text-align: right;\n",
       "    }\n",
       "</style>\n",
       "<table border=\"1\" class=\"dataframe\">\n",
       "  <thead>\n",
       "    <tr style=\"text-align: right;\">\n",
       "      <th></th>\n",
       "      <th>text</th>\n",
       "      <th>label</th>\n",
       "    </tr>\n",
       "  </thead>\n",
       "  <tbody>\n",
       "    <tr>\n",
       "      <th>0</th>\n",
       "      <td>Kevin Morais named as recipient of Internation...</td>\n",
       "      <td>0</td>\n",
       "    </tr>\n",
       "    <tr>\n",
       "      <th>1</th>\n",
       "      <td>Bribery Act 2010 guidance.\\nDetails\\n\\nThe Bri...</td>\n",
       "      <td>0</td>\n",
       "    </tr>\n",
       "    <tr>\n",
       "      <th>2</th>\n",
       "      <td>For independent researchers.\\nAbstract\\n\\nTrad...</td>\n",
       "      <td>0</td>\n",
       "    </tr>\n",
       "    <tr>\n",
       "      <th>3</th>\n",
       "      <td>Global FinTech Company Implements Automated &amp; ...</td>\n",
       "      <td>0</td>\n",
       "    </tr>\n",
       "    <tr>\n",
       "      <th>4</th>\n",
       "      <td>Pope Francis commits to clean finances amid sc...</td>\n",
       "      <td>0</td>\n",
       "    </tr>\n",
       "    <tr>\n",
       "      <th>...</th>\n",
       "      <td>...</td>\n",
       "      <td>...</td>\n",
       "    </tr>\n",
       "    <tr>\n",
       "      <th>1692</th>\n",
       "      <td>U.S indicts Venezuelan in kickback scheme link...</td>\n",
       "      <td>1</td>\n",
       "    </tr>\n",
       "    <tr>\n",
       "      <th>1693</th>\n",
       "      <td>Spokane health clinic owner charged with $5 mi...</td>\n",
       "      <td>1</td>\n",
       "    </tr>\n",
       "    <tr>\n",
       "      <th>1694</th>\n",
       "      <td>FirstEnergy credit rating downgraded to “junk”...</td>\n",
       "      <td>1</td>\n",
       "    </tr>\n",
       "    <tr>\n",
       "      <th>1695</th>\n",
       "      <td>Former Tangipahoa Parish Sheriff’s Office empl...</td>\n",
       "      <td>1</td>\n",
       "    </tr>\n",
       "    <tr>\n",
       "      <th>1696</th>\n",
       "      <td>OxyContin maker Purdue Pharma pleads guilty to...</td>\n",
       "      <td>1</td>\n",
       "    </tr>\n",
       "  </tbody>\n",
       "</table>\n",
       "<p>1594 rows × 2 columns</p>\n",
       "</div>"
      ],
      "text/plain": [
       "                                                   text  label\n",
       "0     Kevin Morais named as recipient of Internation...      0\n",
       "1     Bribery Act 2010 guidance.\\nDetails\\n\\nThe Bri...      0\n",
       "2     For independent researchers.\\nAbstract\\n\\nTrad...      0\n",
       "3     Global FinTech Company Implements Automated & ...      0\n",
       "4     Pope Francis commits to clean finances amid sc...      0\n",
       "...                                                 ...    ...\n",
       "1692  U.S indicts Venezuelan in kickback scheme link...      1\n",
       "1693  Spokane health clinic owner charged with $5 mi...      1\n",
       "1694  FirstEnergy credit rating downgraded to “junk”...      1\n",
       "1695  Former Tangipahoa Parish Sheriff’s Office empl...      1\n",
       "1696  OxyContin maker Purdue Pharma pleads guilty to...      1\n",
       "\n",
       "[1594 rows x 2 columns]"
      ]
     },
     "execution_count": 15,
     "metadata": {},
     "output_type": "execute_result"
    }
   ],
   "source": [
    "full"
   ]
  },
  {
   "cell_type": "markdown",
   "metadata": {},
   "source": [
    "##### Get just title"
   ]
  },
  {
   "cell_type": "code",
   "execution_count": 19,
   "metadata": {},
   "outputs": [],
   "source": [
    "title = getTrainData(include_random=True, n_sentences=0)"
   ]
  },
  {
   "cell_type": "code",
   "execution_count": 20,
   "metadata": {},
   "outputs": [
    {
     "data": {
      "text/html": [
       "<div>\n",
       "<style scoped>\n",
       "    .dataframe tbody tr th:only-of-type {\n",
       "        vertical-align: middle;\n",
       "    }\n",
       "\n",
       "    .dataframe tbody tr th {\n",
       "        vertical-align: top;\n",
       "    }\n",
       "\n",
       "    .dataframe thead th {\n",
       "        text-align: right;\n",
       "    }\n",
       "</style>\n",
       "<table border=\"1\" class=\"dataframe\">\n",
       "  <thead>\n",
       "    <tr style=\"text-align: right;\">\n",
       "      <th></th>\n",
       "      <th>text</th>\n",
       "      <th>label</th>\n",
       "    </tr>\n",
       "  </thead>\n",
       "  <tbody>\n",
       "    <tr>\n",
       "      <th>0</th>\n",
       "      <td>Kevin Morais named as recipient of Internation...</td>\n",
       "      <td>0</td>\n",
       "    </tr>\n",
       "    <tr>\n",
       "      <th>1</th>\n",
       "      <td>Bribery Act 2010 guidance</td>\n",
       "      <td>0</td>\n",
       "    </tr>\n",
       "    <tr>\n",
       "      <th>2</th>\n",
       "      <td>For independent researchers</td>\n",
       "      <td>0</td>\n",
       "    </tr>\n",
       "    <tr>\n",
       "      <th>3</th>\n",
       "      <td>Global FinTech Company Implements Automated &amp; ...</td>\n",
       "      <td>0</td>\n",
       "    </tr>\n",
       "    <tr>\n",
       "      <th>4</th>\n",
       "      <td>Pope Francis commits to clean finances amid sc...</td>\n",
       "      <td>0</td>\n",
       "    </tr>\n",
       "    <tr>\n",
       "      <th>...</th>\n",
       "      <td>...</td>\n",
       "      <td>...</td>\n",
       "    </tr>\n",
       "    <tr>\n",
       "      <th>1692</th>\n",
       "      <td>U.S indicts Venezuelan in kickback scheme link...</td>\n",
       "      <td>1</td>\n",
       "    </tr>\n",
       "    <tr>\n",
       "      <th>1693</th>\n",
       "      <td>Spokane health clinic owner charged with $5 mi...</td>\n",
       "      <td>1</td>\n",
       "    </tr>\n",
       "    <tr>\n",
       "      <th>1694</th>\n",
       "      <td>FirstEnergy credit rating downgraded to “junk”...</td>\n",
       "      <td>1</td>\n",
       "    </tr>\n",
       "    <tr>\n",
       "      <th>1695</th>\n",
       "      <td>Former Tangipahoa Parish Sheriff’s Office empl...</td>\n",
       "      <td>1</td>\n",
       "    </tr>\n",
       "    <tr>\n",
       "      <th>1696</th>\n",
       "      <td>OxyContin maker Purdue Pharma pleads guilty to...</td>\n",
       "      <td>1</td>\n",
       "    </tr>\n",
       "  </tbody>\n",
       "</table>\n",
       "<p>1594 rows × 2 columns</p>\n",
       "</div>"
      ],
      "text/plain": [
       "                                                   text  label\n",
       "0     Kevin Morais named as recipient of Internation...      0\n",
       "1                             Bribery Act 2010 guidance      0\n",
       "2                           For independent researchers      0\n",
       "3     Global FinTech Company Implements Automated & ...      0\n",
       "4     Pope Francis commits to clean finances amid sc...      0\n",
       "...                                                 ...    ...\n",
       "1692  U.S indicts Venezuelan in kickback scheme link...      1\n",
       "1693  Spokane health clinic owner charged with $5 mi...      1\n",
       "1694  FirstEnergy credit rating downgraded to “junk”...      1\n",
       "1695  Former Tangipahoa Parish Sheriff’s Office empl...      1\n",
       "1696  OxyContin maker Purdue Pharma pleads guilty to...      1\n",
       "\n",
       "[1594 rows x 2 columns]"
      ]
     },
     "execution_count": 20,
     "metadata": {},
     "output_type": "execute_result"
    }
   ],
   "source": [
    "title"
   ]
  },
  {
   "cell_type": "code",
   "execution_count": 21,
   "metadata": {},
   "outputs": [
    {
     "data": {
      "text/plain": [
       "'Kevin Morais named as recipient of International Anti-Corruption Award 2020'"
      ]
     },
     "execution_count": 21,
     "metadata": {},
     "output_type": "execute_result"
    }
   ],
   "source": [
    "title.loc[0].text"
   ]
  },
  {
   "cell_type": "markdown",
   "metadata": {},
   "source": [
    "##### Get just article body"
   ]
  },
  {
   "cell_type": "code",
   "execution_count": 22,
   "metadata": {},
   "outputs": [],
   "source": [
    "body = getTrainData(include_random=True, no_title=True)"
   ]
  },
  {
   "cell_type": "code",
   "execution_count": 23,
   "metadata": {},
   "outputs": [
    {
     "data": {
      "text/html": [
       "<div>\n",
       "<style scoped>\n",
       "    .dataframe tbody tr th:only-of-type {\n",
       "        vertical-align: middle;\n",
       "    }\n",
       "\n",
       "    .dataframe tbody tr th {\n",
       "        vertical-align: top;\n",
       "    }\n",
       "\n",
       "    .dataframe thead th {\n",
       "        text-align: right;\n",
       "    }\n",
       "</style>\n",
       "<table border=\"1\" class=\"dataframe\">\n",
       "  <thead>\n",
       "    <tr style=\"text-align: right;\">\n",
       "      <th></th>\n",
       "      <th>text</th>\n",
       "      <th>label</th>\n",
       "    </tr>\n",
       "  </thead>\n",
       "  <tbody>\n",
       "    <tr>\n",
       "      <th>0</th>\n",
       "      <td>PUTRAJAYA: The late senior deputy public prose...</td>\n",
       "      <td>0</td>\n",
       "    </tr>\n",
       "    <tr>\n",
       "      <th>1</th>\n",
       "      <td>Details\\n\\nThe Bribery Act 2010 creates a new ...</td>\n",
       "      <td>0</td>\n",
       "    </tr>\n",
       "    <tr>\n",
       "      <th>2</th>\n",
       "      <td>Abstract\\n\\nTrading by corporate insiders has ...</td>\n",
       "      <td>0</td>\n",
       "    </tr>\n",
       "    <tr>\n",
       "      <th>3</th>\n",
       "      <td>As FinTech organizations grow and expand their...</td>\n",
       "      <td>0</td>\n",
       "    </tr>\n",
       "    <tr>\n",
       "      <th>4</th>\n",
       "      <td>Pope Francis told European anti-money launderi...</td>\n",
       "      <td>0</td>\n",
       "    </tr>\n",
       "    <tr>\n",
       "      <th>...</th>\n",
       "      <td>...</td>\n",
       "      <td>...</td>\n",
       "    </tr>\n",
       "    <tr>\n",
       "      <th>1692</th>\n",
       "      <td>A dual Venezuelan-Italian citizen who controll...</td>\n",
       "      <td>1</td>\n",
       "    </tr>\n",
       "    <tr>\n",
       "      <th>1693</th>\n",
       "      <td>The owner of a health clinic based in Spokane,...</td>\n",
       "      <td>1</td>\n",
       "    </tr>\n",
       "    <tr>\n",
       "      <th>1694</th>\n",
       "      <td>FirstEnergy‘s credit rating has been downgrade...</td>\n",
       "      <td>1</td>\n",
       "    </tr>\n",
       "    <tr>\n",
       "      <th>1695</th>\n",
       "      <td>A Tangipahoa Parish Sheriff’s Office employee ...</td>\n",
       "      <td>1</td>\n",
       "    </tr>\n",
       "    <tr>\n",
       "      <th>1696</th>\n",
       "      <td>Purdue Pharma LP pleaded guilty to criminal ch...</td>\n",
       "      <td>1</td>\n",
       "    </tr>\n",
       "  </tbody>\n",
       "</table>\n",
       "<p>1594 rows × 2 columns</p>\n",
       "</div>"
      ],
      "text/plain": [
       "                                                   text  label\n",
       "0     PUTRAJAYA: The late senior deputy public prose...      0\n",
       "1     Details\\n\\nThe Bribery Act 2010 creates a new ...      0\n",
       "2     Abstract\\n\\nTrading by corporate insiders has ...      0\n",
       "3     As FinTech organizations grow and expand their...      0\n",
       "4     Pope Francis told European anti-money launderi...      0\n",
       "...                                                 ...    ...\n",
       "1692  A dual Venezuelan-Italian citizen who controll...      1\n",
       "1693  The owner of a health clinic based in Spokane,...      1\n",
       "1694  FirstEnergy‘s credit rating has been downgrade...      1\n",
       "1695  A Tangipahoa Parish Sheriff’s Office employee ...      1\n",
       "1696  Purdue Pharma LP pleaded guilty to criminal ch...      1\n",
       "\n",
       "[1594 rows x 2 columns]"
      ]
     },
     "execution_count": 23,
     "metadata": {},
     "output_type": "execute_result"
    }
   ],
   "source": [
    "body"
   ]
  },
  {
   "cell_type": "code",
   "execution_count": 24,
   "metadata": {},
   "outputs": [
    {
     "data": {
      "text/plain": [
       "'PUTRAJAYA: The late senior deputy public prosecutor Datuk Anthony Kevin Morais may have long passed but his commitment, determination and contributions towards fighting corruption is one legacy which lives on.\\n\\nMorais was named as one of the two recipients of the International Anti-Corruption Award 2020 at the Perdana International Anti-Corruption Champion Fund (PIACCF) launch, here tonight.\\nMorais was abducted and murdered while on his way to work in September 2015, while investigating a corruption scandal.\\n\\nHis body was chopped up and put into a cement drum before it was discovered and confirmed through a DNA test.\\n\\nThe other award recipient was Novel Baswedan, the Head of Investigator for Indonesian’s Corruption Eradication Commission (KPK).\\n\\nNovel, from Jakarta, Indonesia, was attacked on April 11, 2017. He was returning from dawn prayers near his house in Kelapa Gading in North Jakarta when he was sprayed with chemical-laced water by his attackers.\\n\\nHe survived the attack but lost sight in one eye as a result.\\n\\nBoth men were honoured for their bravery in fighting and exposing corruption activities in their respective countries.\\n\\nPrime Minister Tun Dr Mahathir Mohamad presented the awards to Novel and Morais\\' brother Datuk Richard Morais, who accepted the posthumous award on his late brother\\'s behalf.\\n\\nDr Mahathir paid tribute to the men\\'s courage and determination to eradicate corruption.\\n\\n\"These are among the men who deserve to be hailed as heroes for going all out in the fight against corruption and the danger and threats that come with the job. These two men are some of the most dedicated men who paid a very heavy price for their battle against corruption,\" said the prime minister in his keynote speech.\\n\\nDr Mahathir said the fund is not only special but also important because it acts as a support system for anti-corruption officers who had been victimised and subjected to persecution in the line of duty.\\n\\n\"We know that combatting and exposing corruption are very dangerous and the world has witnessed many of those who attempted to do so pay dearly, even with their lives.\\n\\n\"Obviously, those who involve themselves in corruption are powerful and rich. Their objective is normally to gain more power and wealth and these people are powerful enough to punish and stop anyone who tries to end their shenanigans.\\n\\n\"We are here to tell the world that all the anti-corruption officers who had paid heavy prices in the course of their duty are our champions and our heroes,\" he said.\\n\\nDr Mahathir also added a special mention for former Attorney-General Tan Sri Abdul Gani Patail, former Bank Negara Governor Tan Sri Zeti Akhtar Aziz and former Malaysian Anti-Corruption Commission (MACC) Chief Commissioner\\n\\nDatuk Seri Mohd Shukri Abdull for their role in exposing the 1Malaysia Development Bhd (1MDB) scandal.\\n\\nDr Mahathir said 1MDB is a significant case which became the turning point of Malaysia’s political direction and sparked an awakening among Malaysians.\\n\\n\\n\\n\"Their collective courage and determination brought a kleptocratic regime to its feet, in an unprecedented show of people’s power. I would also like to express my utmost regards for all the men and women across the globe who had given their time, lives and commitment in putting an end to the corruption scourge.”\\n\\n\\n\\nAmong those present at the PIACCF launch were United Nation’s Resident Coordinator Stefan Priesner; National Centre for Governance, Integrity and Anti-Corruption (GIACC) director-general Tan Sri Abu Kassim Mohamed: International Association of Anti-Corruption Authorities (IAACA) representative Martin Kreutner; the prime minister\\'s wife Tun Dr Siti Hasmah Mohd Ali as well as cabinet ministers.\\n\\n\\n\\nKreutner, meanwhile, said the fund was created to help anti-corruption agents, with the larger aim of enabling anti-corruption agencies to be independent and fight for the truth without fear.\\n\\n\\n\\nThe establishment was set up in line with the United Nation Conventions Against Corruption\\'s (UNCAC) code which makes protection compulsory for graft busters, who are state members of IAACA.\\n\\n\\n\\nKreutner added that the setting up of the fund followed the adoption to establish the fund at IAACA General Conference in Vienna, in Jan last year.\\n\\n\\n\\nMalaysia started the fund with a RM500,000 contribution, followed by Yayasan Bukhari which donated RM2.5 million.'"
      ]
     },
     "execution_count": 24,
     "metadata": {},
     "output_type": "execute_result"
    }
   ],
   "source": [
    "body.loc[0].text"
   ]
  },
  {
   "cell_type": "markdown",
   "metadata": {},
   "source": [
    "##### Get title + first sentence"
   ]
  },
  {
   "cell_type": "code",
   "execution_count": 25,
   "metadata": {},
   "outputs": [],
   "source": [
    "title_1st_sentence = getTrainData(include_random=True, n_sentences=1)"
   ]
  },
  {
   "cell_type": "code",
   "execution_count": 26,
   "metadata": {},
   "outputs": [
    {
     "data": {
      "text/html": [
       "<div>\n",
       "<style scoped>\n",
       "    .dataframe tbody tr th:only-of-type {\n",
       "        vertical-align: middle;\n",
       "    }\n",
       "\n",
       "    .dataframe tbody tr th {\n",
       "        vertical-align: top;\n",
       "    }\n",
       "\n",
       "    .dataframe thead th {\n",
       "        text-align: right;\n",
       "    }\n",
       "</style>\n",
       "<table border=\"1\" class=\"dataframe\">\n",
       "  <thead>\n",
       "    <tr style=\"text-align: right;\">\n",
       "      <th></th>\n",
       "      <th>text</th>\n",
       "      <th>label</th>\n",
       "    </tr>\n",
       "  </thead>\n",
       "  <tbody>\n",
       "    <tr>\n",
       "      <th>0</th>\n",
       "      <td>Kevin Morais named as recipient of Internation...</td>\n",
       "      <td>0</td>\n",
       "    </tr>\n",
       "    <tr>\n",
       "      <th>1</th>\n",
       "      <td>Bribery Act 2010 guidance.\\nDetails\\n\\nThe Bri...</td>\n",
       "      <td>0</td>\n",
       "    </tr>\n",
       "    <tr>\n",
       "      <th>2</th>\n",
       "      <td>For independent researchers.\\nAbstract\\n\\nTrad...</td>\n",
       "      <td>0</td>\n",
       "    </tr>\n",
       "    <tr>\n",
       "      <th>3</th>\n",
       "      <td>Global FinTech Company Implements Automated &amp; ...</td>\n",
       "      <td>0</td>\n",
       "    </tr>\n",
       "    <tr>\n",
       "      <th>4</th>\n",
       "      <td>Pope Francis commits to clean finances amid sc...</td>\n",
       "      <td>0</td>\n",
       "    </tr>\n",
       "    <tr>\n",
       "      <th>...</th>\n",
       "      <td>...</td>\n",
       "      <td>...</td>\n",
       "    </tr>\n",
       "    <tr>\n",
       "      <th>1692</th>\n",
       "      <td>U.S indicts Venezuelan in kickback scheme link...</td>\n",
       "      <td>1</td>\n",
       "    </tr>\n",
       "    <tr>\n",
       "      <th>1693</th>\n",
       "      <td>Spokane health clinic owner charged with $5 mi...</td>\n",
       "      <td>1</td>\n",
       "    </tr>\n",
       "    <tr>\n",
       "      <th>1694</th>\n",
       "      <td>FirstEnergy credit rating downgraded to “junk”...</td>\n",
       "      <td>1</td>\n",
       "    </tr>\n",
       "    <tr>\n",
       "      <th>1695</th>\n",
       "      <td>Former Tangipahoa Parish Sheriff’s Office empl...</td>\n",
       "      <td>1</td>\n",
       "    </tr>\n",
       "    <tr>\n",
       "      <th>1696</th>\n",
       "      <td>OxyContin maker Purdue Pharma pleads guilty to...</td>\n",
       "      <td>1</td>\n",
       "    </tr>\n",
       "  </tbody>\n",
       "</table>\n",
       "<p>1594 rows × 2 columns</p>\n",
       "</div>"
      ],
      "text/plain": [
       "                                                   text  label\n",
       "0     Kevin Morais named as recipient of Internation...      0\n",
       "1     Bribery Act 2010 guidance.\\nDetails\\n\\nThe Bri...      0\n",
       "2     For independent researchers.\\nAbstract\\n\\nTrad...      0\n",
       "3     Global FinTech Company Implements Automated & ...      0\n",
       "4     Pope Francis commits to clean finances amid sc...      0\n",
       "...                                                 ...    ...\n",
       "1692  U.S indicts Venezuelan in kickback scheme link...      1\n",
       "1693  Spokane health clinic owner charged with $5 mi...      1\n",
       "1694  FirstEnergy credit rating downgraded to “junk”...      1\n",
       "1695  Former Tangipahoa Parish Sheriff’s Office empl...      1\n",
       "1696  OxyContin maker Purdue Pharma pleads guilty to...      1\n",
       "\n",
       "[1594 rows x 2 columns]"
      ]
     },
     "execution_count": 26,
     "metadata": {},
     "output_type": "execute_result"
    }
   ],
   "source": [
    "title_1st_sentence"
   ]
  },
  {
   "cell_type": "code",
   "execution_count": 27,
   "metadata": {},
   "outputs": [
    {
     "data": {
      "text/plain": [
       "'Kevin Morais named as recipient of International Anti-Corruption Award 2020.\\nPUTRAJAYA: The late senior deputy public prosecutor Datuk Anthony Kevin Morais may have long passed but his commitment, determination and contributions towards fighting corruption is one legacy which lives on.'"
      ]
     },
     "execution_count": 27,
     "metadata": {},
     "output_type": "execute_result"
    }
   ],
   "source": [
    "title_1st_sentence.loc[0].text"
   ]
  },
  {
   "cell_type": "markdown",
   "metadata": {},
   "source": [
    "### Get test data (external use)"
   ]
  },
  {
   "cell_type": "code",
   "execution_count": 28,
   "metadata": {},
   "outputs": [],
   "source": [
    "def getTestData(no_title=False, n_sentences=-1):\n",
    "    td = pd.DataFrame([])\n",
    "    if n_sentences >= 0:\n",
    "        td['text'] = test.article.apply(lambda a: \" \".join(nltk.sent_tokenize(a)[0:n_sentences]))\n",
    "    else:\n",
    "        td['text'] = test.article\n",
    "    \n",
    "    td['label'] = test.label\n",
    "    \n",
    "    td = td.copy()\n",
    "    \n",
    "    if not no_title:\n",
    "        if n_sentences == 0:\n",
    "            td['text'] = test.title\n",
    "        else:\n",
    "            td['text'] = pd.DataFrame({ 'title': test.title, 'article': td.text }).agg('.\\n'.join, axis=1)\n",
    "    \n",
    "    return td.copy()"
   ]
  },
  {
   "cell_type": "markdown",
   "metadata": {},
   "source": [
    "## Analysis"
   ]
  },
  {
   "cell_type": "markdown",
   "metadata": {},
   "source": [
    "### Article body size"
   ]
  },
  {
   "cell_type": "code",
   "execution_count": 77,
   "metadata": {},
   "outputs": [],
   "source": [
    "train_data_body = getTrainData(include_random=True, no_title=True)"
   ]
  },
  {
   "cell_type": "code",
   "execution_count": 78,
   "metadata": {},
   "outputs": [],
   "source": [
    "cv = CountVectorizer()\n",
    "test_cv = cv.fit_transform(train_data_body['text'].array)"
   ]
  },
  {
   "cell_type": "code",
   "execution_count": 79,
   "metadata": {},
   "outputs": [
    {
     "data": {
      "text/html": [
       "<div>\n",
       "<style scoped>\n",
       "    .dataframe tbody tr th:only-of-type {\n",
       "        vertical-align: middle;\n",
       "    }\n",
       "\n",
       "    .dataframe tbody tr th {\n",
       "        vertical-align: top;\n",
       "    }\n",
       "\n",
       "    .dataframe thead th {\n",
       "        text-align: right;\n",
       "    }\n",
       "</style>\n",
       "<table border=\"1\" class=\"dataframe\">\n",
       "  <thead>\n",
       "    <tr style=\"text-align: right;\">\n",
       "      <th></th>\n",
       "      <th>text</th>\n",
       "      <th>label</th>\n",
       "      <th>word_count</th>\n",
       "    </tr>\n",
       "  </thead>\n",
       "  <tbody>\n",
       "    <tr>\n",
       "      <th>1008</th>\n",
       "      <td>MEXICO CITY, Oct 16 (Reuters) - Former Mexican...</td>\n",
       "      <td>1</td>\n",
       "      <td>42</td>\n",
       "    </tr>\n",
       "    <tr>\n",
       "      <th>1122</th>\n",
       "      <td>August 21, 2020 by David Marchant\\n\\nThree UK ...</td>\n",
       "      <td>1</td>\n",
       "      <td>50</td>\n",
       "    </tr>\n",
       "    <tr>\n",
       "      <th>389</th>\n",
       "      <td>KYIV (Reuters) - The Ukrainian parliament must...</td>\n",
       "      <td>0</td>\n",
       "      <td>58</td>\n",
       "    </tr>\n",
       "    <tr>\n",
       "      <th>907</th>\n",
       "      <td>July 6 (Reuters) - U.S. prosecutors have charg...</td>\n",
       "      <td>1</td>\n",
       "      <td>61</td>\n",
       "    </tr>\n",
       "    <tr>\n",
       "      <th>194</th>\n",
       "      <td>Keiser University’s Bachelor of Arts degree in...</td>\n",
       "      <td>0</td>\n",
       "      <td>61</td>\n",
       "    </tr>\n",
       "    <tr>\n",
       "      <th>...</th>\n",
       "      <td>...</td>\n",
       "      <td>...</td>\n",
       "      <td>...</td>\n",
       "    </tr>\n",
       "    <tr>\n",
       "      <th>322</th>\n",
       "      <td>Not to be confused with his predecessor, Ruhol...</td>\n",
       "      <td>0</td>\n",
       "      <td>5023</td>\n",
       "    </tr>\n",
       "    <tr>\n",
       "      <th>39</th>\n",
       "      <td>Uhuru Muigai Kenyatta (born 26 October 1961) i...</td>\n",
       "      <td>1</td>\n",
       "      <td>5081</td>\n",
       "    </tr>\n",
       "    <tr>\n",
       "      <th>464</th>\n",
       "      <td>From Wikipedia, the free encyclopedia\\n\\nJump ...</td>\n",
       "      <td>0</td>\n",
       "      <td>5084</td>\n",
       "    </tr>\n",
       "    <tr>\n",
       "      <th>491</th>\n",
       "      <td>From Wikipedia, the free encyclopedia\\n\\nJump ...</td>\n",
       "      <td>0</td>\n",
       "      <td>5217</td>\n",
       "    </tr>\n",
       "    <tr>\n",
       "      <th>1356</th>\n",
       "      <td>On the morning of May 18, 2014, Violeta Lagune...</td>\n",
       "      <td>0</td>\n",
       "      <td>6677</td>\n",
       "    </tr>\n",
       "  </tbody>\n",
       "</table>\n",
       "<p>1594 rows × 3 columns</p>\n",
       "</div>"
      ],
      "text/plain": [
       "                                                   text  label  word_count\n",
       "1008  MEXICO CITY, Oct 16 (Reuters) - Former Mexican...      1          42\n",
       "1122  August 21, 2020 by David Marchant\\n\\nThree UK ...      1          50\n",
       "389   KYIV (Reuters) - The Ukrainian parliament must...      0          58\n",
       "907   July 6 (Reuters) - U.S. prosecutors have charg...      1          61\n",
       "194   Keiser University’s Bachelor of Arts degree in...      0          61\n",
       "...                                                 ...    ...         ...\n",
       "322   Not to be confused with his predecessor, Ruhol...      0        5023\n",
       "39    Uhuru Muigai Kenyatta (born 26 October 1961) i...      1        5081\n",
       "464   From Wikipedia, the free encyclopedia\\n\\nJump ...      0        5084\n",
       "491   From Wikipedia, the free encyclopedia\\n\\nJump ...      0        5217\n",
       "1356  On the morning of May 18, 2014, Violeta Lagune...      0        6677\n",
       "\n",
       "[1594 rows x 3 columns]"
      ]
     },
     "execution_count": 79,
     "metadata": {},
     "output_type": "execute_result"
    }
   ],
   "source": [
    "train_data_body[\"word_count\"] = np.sum(test_cv.toarray(), axis=1)\n",
    "train_data_body = train_data_body.sort_values(by=['word_count'])\n",
    "train_data_body"
   ]
  },
  {
   "cell_type": "code",
   "execution_count": 80,
   "metadata": {},
   "outputs": [
    {
     "data": {
      "text/plain": [
       "count    1594.000000\n",
       "mean      736.481179\n",
       "std       670.340442\n",
       "min        42.000000\n",
       "25%       339.000000\n",
       "50%       564.500000\n",
       "75%       911.000000\n",
       "max      6677.000000\n",
       "Name: word_count, dtype: float64"
      ]
     },
     "execution_count": 80,
     "metadata": {},
     "output_type": "execute_result"
    }
   ],
   "source": [
    "train_data_body.word_count.describe()"
   ]
  },
  {
   "cell_type": "code",
   "execution_count": 88,
   "metadata": {},
   "outputs": [
    {
     "data": {
      "text/plain": [
       "736.4811794228357"
      ]
     },
     "execution_count": 88,
     "metadata": {},
     "output_type": "execute_result"
    }
   ],
   "source": [
    "train_data_body.word_count.mean()"
   ]
  },
  {
   "cell_type": "code",
   "execution_count": 101,
   "metadata": {},
   "outputs": [
    {
     "data": {
      "image/png": "[encoded data removed]",
      "text/plain": [
       "<Figure size 1152x576 with 1 Axes>"
      ]
     },
     "metadata": {
      "needs_background": "light"
     },
     "output_type": "display_data"
    }
   ],
   "source": [
    "plt.rcParams[\"figure.figsize\"] = (16,8)\n",
    "\n",
    "plt.scatter(np.arange(0, len(train_data_body)), train_data_body.word_count)\n",
    "plt.axline((0, train_data_body.word_count.mean()), slope=0, color=\"red\", label=\"Mean\")\n",
    "plt.title(\"Article Body Word Count\", fontsize=20)\n",
    "plt.xlabel(\"Article Index\", fontsize=18)\n",
    "plt.ylabel(\"Word Count\", fontsize=18)\n",
    "plt.legend(fontsize=16)\n",
    "plt.show()"
   ]
  },
  {
   "cell_type": "markdown",
   "metadata": {},
   "source": [
    "### Article title size"
   ]
  },
  {
   "cell_type": "code",
   "execution_count": 71,
   "metadata": {},
   "outputs": [],
   "source": [
    "train_data_title = getTrainData(include_random=True, n_sentences=0)"
   ]
  },
  {
   "cell_type": "code",
   "execution_count": 73,
   "metadata": {},
   "outputs": [],
   "source": [
    "cv = CountVectorizer()\n",
    "test_title_cv = cv.fit_transform(train_data_title['text'].array)"
   ]
  },
  {
   "cell_type": "code",
   "execution_count": 75,
   "metadata": {},
   "outputs": [
    {
     "data": {
      "text/html": [
       "<div>\n",
       "<style scoped>\n",
       "    .dataframe tbody tr th:only-of-type {\n",
       "        vertical-align: middle;\n",
       "    }\n",
       "\n",
       "    .dataframe tbody tr th {\n",
       "        vertical-align: top;\n",
       "    }\n",
       "\n",
       "    .dataframe thead th {\n",
       "        text-align: right;\n",
       "    }\n",
       "</style>\n",
       "<table border=\"1\" class=\"dataframe\">\n",
       "  <thead>\n",
       "    <tr style=\"text-align: right;\">\n",
       "      <th></th>\n",
       "      <th>text</th>\n",
       "      <th>label</th>\n",
       "      <th>word_count</th>\n",
       "    </tr>\n",
       "  </thead>\n",
       "  <tbody>\n",
       "    <tr>\n",
       "      <th>553</th>\n",
       "      <td>FCA admits revealing confidential details of 1...</td>\n",
       "      <td>0</td>\n",
       "      <td>1</td>\n",
       "    </tr>\n",
       "    <tr>\n",
       "      <th>1200</th>\n",
       "      <td>Treasury Sanctions Hizballah Leadership</td>\n",
       "      <td>1</td>\n",
       "      <td>1</td>\n",
       "    </tr>\n",
       "    <tr>\n",
       "      <th>1606</th>\n",
       "      <td>New Zealand mosque gunman pleads guilty to mur...</td>\n",
       "      <td>1</td>\n",
       "      <td>1</td>\n",
       "    </tr>\n",
       "    <tr>\n",
       "      <th>736</th>\n",
       "      <td>Riduan Isamuddin</td>\n",
       "      <td>1</td>\n",
       "      <td>1</td>\n",
       "    </tr>\n",
       "    <tr>\n",
       "      <th>1059</th>\n",
       "      <td>Brother of Colombian drug lord pleads guilty i...</td>\n",
       "      <td>1</td>\n",
       "      <td>1</td>\n",
       "    </tr>\n",
       "    <tr>\n",
       "      <th>...</th>\n",
       "      <td>...</td>\n",
       "      <td>...</td>\n",
       "      <td>...</td>\n",
       "    </tr>\n",
       "    <tr>\n",
       "      <th>1192</th>\n",
       "      <td>Fraudster Stephen Davey posed as police office...</td>\n",
       "      <td>1</td>\n",
       "      <td>33</td>\n",
       "    </tr>\n",
       "    <tr>\n",
       "      <th>1644</th>\n",
       "      <td>Vitol agrees to pay $160m in bribery and manip...</td>\n",
       "      <td>1</td>\n",
       "      <td>33</td>\n",
       "    </tr>\n",
       "    <tr>\n",
       "      <th>105</th>\n",
       "      <td>KPK Lauds Award Bestowed by Malaysia on Novel ...</td>\n",
       "      <td>0</td>\n",
       "      <td>37</td>\n",
       "    </tr>\n",
       "    <tr>\n",
       "      <th>322</th>\n",
       "      <td>Ali Khamenei</td>\n",
       "      <td>0</td>\n",
       "      <td>39</td>\n",
       "    </tr>\n",
       "    <tr>\n",
       "      <th>1406</th>\n",
       "      <td>Four Movies You Should Know About Before the G...</td>\n",
       "      <td>0</td>\n",
       "      <td>58</td>\n",
       "    </tr>\n",
       "  </tbody>\n",
       "</table>\n",
       "<p>1594 rows × 3 columns</p>\n",
       "</div>"
      ],
      "text/plain": [
       "                                                   text  label  word_count\n",
       "553   FCA admits revealing confidential details of 1...      0           1\n",
       "1200            Treasury Sanctions Hizballah Leadership      1           1\n",
       "1606  New Zealand mosque gunman pleads guilty to mur...      1           1\n",
       "736                                    Riduan Isamuddin      1           1\n",
       "1059  Brother of Colombian drug lord pleads guilty i...      1           1\n",
       "...                                                 ...    ...         ...\n",
       "1192  Fraudster Stephen Davey posed as police office...      1          33\n",
       "1644  Vitol agrees to pay $160m in bribery and manip...      1          33\n",
       "105   KPK Lauds Award Bestowed by Malaysia on Novel ...      0          37\n",
       "322                                        Ali Khamenei      0          39\n",
       "1406  Four Movies You Should Know About Before the G...      0          58\n",
       "\n",
       "[1594 rows x 3 columns]"
      ]
     },
     "execution_count": 75,
     "metadata": {},
     "output_type": "execute_result"
    }
   ],
   "source": [
    "train_data_title[\"word_count\"] = np.sum(test_title_cv.toarray(), axis=1)\n",
    "train_data_title = train_data_title.sort_values(by=['word_count'])\n",
    "train_data_title"
   ]
  },
  {
   "cell_type": "code",
   "execution_count": 76,
   "metadata": {},
   "outputs": [
    {
     "data": {
      "text/plain": [
       "count    1594.000000\n",
       "mean        9.863237\n",
       "std         4.097692\n",
       "min         1.000000\n",
       "25%         8.000000\n",
       "50%         9.000000\n",
       "75%        12.000000\n",
       "max        58.000000\n",
       "Name: word_count, dtype: float64"
      ]
     },
     "execution_count": 76,
     "metadata": {},
     "output_type": "execute_result"
    }
   ],
   "source": [
    "train_data_title.word_count.describe()"
   ]
  },
  {
   "cell_type": "code",
   "execution_count": 103,
   "metadata": {},
   "outputs": [
    {
     "data": {
      "image/png": "[encoded data removed]",
      "text/plain": [
       "<Figure size 1152x576 with 1 Axes>"
      ]
     },
     "metadata": {
      "needs_background": "light"
     },
     "output_type": "display_data"
    }
   ],
   "source": [
    "plt.rcParams[\"figure.figsize\"] = (16,8)\n",
    "\n",
    "plt.scatter(np.arange(0, len(train_data_title)), train_data_title.word_count)\n",
    "plt.axline((0, train_data_title.word_count.mean()), slope=0, color=\"red\", label=\"Mean\")\n",
    "plt.title(\"Article Title Word Count\", fontsize=20)\n",
    "plt.xlabel(\"Article Index\", fontsize=18)\n",
    "plt.ylabel(\"Word Count\", fontsize=18)\n",
    "plt.legend(fontsize=16)\n",
    "plt.show()"
   ]
  }
 ],
 "metadata": {
  "kernelspec": {
   "display_name": "Python 3",
   "language": "python",
   "name": "python3"
  },
  "language_info": {
   "codemirror_mode": {
    "name": "ipython",
    "version": 3
   },
   "file_extension": ".py",
   "mimetype": "text/x-python",
   "name": "python",
   "nbconvert_exporter": "python",
   "pygments_lexer": "ipython3",
   "version": "3.7.2"
  }
 },
 "nbformat": 4,
 "nbformat_minor": 4
}
