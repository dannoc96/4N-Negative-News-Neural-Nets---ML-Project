{
 "cells": [
  {
   "cell_type": "markdown",
   "metadata": {},
   "source": [
    "# Naive Bayes"
   ]
  },
  {
   "cell_type": "markdown",
   "metadata": {},
   "source": [
    "## Imports"
   ]
  },
  {
   "cell_type": "code",
   "execution_count": 1,
   "metadata": {},
   "outputs": [],
   "source": [
    "import pandas as pd\n",
    "import numpy as np\n",
    "from sklearn.feature_extraction.text import CountVectorizer\n",
    "from sklearn.feature_extraction.text import TfidfVectorizer\n",
    "from sklearn.naive_bayes import MultinomialNB\n",
    "from sklearn.metrics import accuracy_score, precision_score, recall_score, f1_score, matthews_corrcoef\n",
    "from sklearn.model_selection import KFold"
   ]
  },
  {
   "cell_type": "markdown",
   "metadata": {},
   "source": [
    "## Load data"
   ]
  },
  {
   "cell_type": "code",
   "execution_count": 2,
   "metadata": {},
   "outputs": [],
   "source": [
    "import os\n",
    "# Change directory to load preprocess script\n",
    "os.chdir(\"..\")"
   ]
  },
  {
   "cell_type": "code",
   "execution_count": 3,
   "metadata": {},
   "outputs": [
    {
     "name": "stderr",
     "output_type": "stream",
     "text": [
      "[nltk_data] Downloading package punkt to\n",
      "[nltk_data]     C:\\Users\\Dan\\AppData\\Roaming\\nltk_data...\n",
      "[nltk_data]   Package punkt is already up-to-date!\n"
     ]
    }
   ],
   "source": [
    "from data_preprocess import getTrainData\n",
    "train_data = getTrainData(include_random=True)"
   ]
  },
  {
   "cell_type": "markdown",
   "metadata": {},
   "source": [
    "## Test"
   ]
  },
  {
   "cell_type": "code",
   "execution_count": 4,
   "metadata": {},
   "outputs": [],
   "source": [
    "def cross_validation(word_vectorizer, model):\n",
    "    i = 0\n",
    "    n = 6\n",
    "    \n",
    "    accuracy = np.zeros(n)\n",
    "    precision = np.zeros(n)\n",
    "    recall = np.zeros(n)\n",
    "    f1 = np.zeros(n)\n",
    "    mcc = np.zeros(n)\n",
    "    \n",
    "    kf = KFold(n_splits=n, shuffle=True, random_state=0)\n",
    "    \n",
    "    X = train_data['text'].array\n",
    "    y = train_data['label'].array\n",
    "\n",
    "    for train_index, test_index in kf.split(X):\n",
    "        X_train, X_val = X[train_index], X[test_index]\n",
    "        y_train, y_val = y[train_index], y[test_index]\n",
    "\n",
    "        X_train_cv = word_vectorizer.fit_transform(X_train)\n",
    "        X_test_cv = word_vectorizer.transform(X_val)\n",
    "        \n",
    "        model.fit(X_train_cv, y_train)\n",
    "        predictions = model.predict(X_test_cv)\n",
    "\n",
    "        accuracy[i] = accuracy_score(y_val, predictions)\n",
    "        precision[i] = precision_score(y_val, predictions)\n",
    "        recall[i] = recall_score(y_val, predictions)\n",
    "        f1[i] = f1_score(y_val, predictions)\n",
    "        mcc[i] = matthews_corrcoef(y_val, predictions)\n",
    "        \n",
    "        i += 1\n",
    "    return np.mean(accuracy), np.mean(precision), np.mean(recall), np.mean(f1), np.mean(mcc)"
   ]
  },
  {
   "cell_type": "markdown",
   "metadata": {},
   "source": [
    "### Naive bayes + CountVectorizer"
   ]
  },
  {
   "cell_type": "code",
   "execution_count": 5,
   "metadata": {},
   "outputs": [
    {
     "name": "stdout",
     "output_type": "stream",
     "text": [
      "Naive bayes + CountVectorizer:\n",
      "Accuracy score:  0.9284934033196199\n",
      "Precision score:  0.9171034221501397\n",
      "Recall score:  0.9444048330484351\n",
      "F1 score:  0.9302493157330859\n",
      "MCC score:  0.8574588090777394\n"
     ]
    }
   ],
   "source": [
    "cv = CountVectorizer(strip_accents='ascii', lowercase=True, stop_words='english')\n",
    "naive_bayes = MultinomialNB()\n",
    "\n",
    "accuracy, precision, recall, f1, mcc = cross_validation(cv, naive_bayes)\n",
    "\n",
    "print('Naive bayes + CountVectorizer:')\n",
    "print('Accuracy score: ', accuracy)\n",
    "print('Precision score: ', precision)\n",
    "print('Recall score: ', recall)\n",
    "print('F1 score: ', f1)\n",
    "print('MCC score: ', mcc)"
   ]
  },
  {
   "cell_type": "markdown",
   "metadata": {},
   "source": [
    "### Naive bayes + TfidfVectorizer"
   ]
  },
  {
   "cell_type": "code",
   "execution_count": 6,
   "metadata": {},
   "outputs": [
    {
     "name": "stdout",
     "output_type": "stream",
     "text": [
      "Naive bayes + TfidfVectorizer:\n",
      "Accuracy score:  0.9291223341372299\n",
      "Precision score:  0.9310502545239512\n",
      "Recall score:  0.9277486558816211\n",
      "F1 score:  0.9291634623179729\n",
      "MCC score:  0.8583494693654311\n"
     ]
    }
   ],
   "source": [
    "cv = TfidfVectorizer(strip_accents='ascii', lowercase=True, stop_words='english')\n",
    "naive_bayes = MultinomialNB()\n",
    "\n",
    "accuracy, precision, recall, f1, mcc = cross_validation(cv, naive_bayes)\n",
    "\n",
    "print('Naive bayes + TfidfVectorizer:')\n",
    "print('Accuracy score: ', accuracy)\n",
    "print('Precision score: ', precision)\n",
    "print('Recall score: ', recall)\n",
    "print('F1 score: ', f1)\n",
    "print('MCC score: ', mcc)"
   ]
  },
  {
   "cell_type": "code",
   "execution_count": null,
   "metadata": {},
   "outputs": [],
   "source": []
  }
 ],
 "metadata": {
  "kernelspec": {
   "display_name": "Python 3",
   "language": "python",
   "name": "python3"
  },
  "language_info": {
   "codemirror_mode": {
    "name": "ipython",
    "version": 3
   },
   "file_extension": ".py",
   "mimetype": "text/x-python",
   "name": "python",
   "nbconvert_exporter": "python",
   "pygments_lexer": "ipython3",
   "version": "3.7.2"
  }
 },
 "nbformat": 4,
 "nbformat_minor": 4
}
